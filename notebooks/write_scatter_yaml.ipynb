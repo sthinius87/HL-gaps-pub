{
 "cells": [
  {
   "cell_type": "code",
   "execution_count": 3,
   "metadata": {
    "execution": {
     "iopub.execute_input": "2024-05-14T06:43:38.363009Z",
     "iopub.status.busy": "2024-05-14T06:43:38.362477Z",
     "iopub.status.idle": "2024-05-14T06:43:38.369337Z",
     "shell.execute_reply": "2024-05-14T06:43:38.367996Z",
     "shell.execute_reply.started": "2024-05-14T06:43:38.362959Z"
    },
    "tags": []
   },
   "outputs": [],
   "source": [
    "#db_entries=407270 #407269 last split\n",
    "db_start  =380001\n",
    "db_entries=407270\n",
    "#380001"
   ]
  },
  {
   "cell_type": "code",
   "execution_count": 4,
   "metadata": {
    "execution": {
     "iopub.execute_input": "2024-05-14T06:43:40.115317Z",
     "iopub.status.busy": "2024-05-14T06:43:40.114789Z",
     "iopub.status.idle": "2024-05-14T06:43:40.167495Z",
     "shell.execute_reply": "2024-05-14T06:43:40.166155Z",
     "shell.execute_reply.started": "2024-05-14T06:43:40.115267Z"
    },
    "tags": []
   },
   "outputs": [],
   "source": [
    "with open(\"../cwl_workflow/paramas.yml\",mode='w') as ff:\n",
    "    ff.write(\"inp_dbpath: /home/sat/electronic-gaps/data/db_split \\n\")\n",
    "    ff.write(\"inp_dbbasename: COCONUT_2022_01_2D.SDF \\n\")\n",
    "    ff.write(\"inp_dbid: 433 \\n\")\n",
    "    ff.write(\"inp_nconfs: 10 \\n\")\n",
    "    ff.write(\"inp_accuracy: 1.0 \\n\")\n",
    "    ff.write(\"inp_eltemp: 300.0 \\n\")\n",
    "    ff.write(\"inp_method: 'GFN2-xTB' \\n\")\n",
    "    ff.write(\"inp_pathV: /home/sat/anaconda3/envs/py310electronic_gaps/bin \\n\")\n",
    "    ff.write(\"inp_xtbpathV: /home/sat/anaconda3/envs/py310electronic_gaps/share/xtb \\n\")\n",
    "    ff.write(\"inp_condaprefV: /home/sat/anaconda3/envs/py310electronic_gaps \\n\")\n",
    "    ff.write(\"inp_id_array: \\n\")\n",
    "    for num in range(db_start,db_entries):\n",
    "        ff.write(\"{:>4s}{:<7d}\\n\".format(\"  - \",num))\n",
    "    ff.close()"
   ]
  },
  {
   "cell_type": "code",
   "execution_count": null,
   "metadata": {},
   "outputs": [],
   "source": []
  }
 ],
 "metadata": {
  "kernelspec": {
   "display_name": "py310electronic_gaps",
   "language": "python",
   "name": "py310electronic_gaps"
  },
  "language_info": {
   "codemirror_mode": {
    "name": "ipython",
    "version": 3
   },
   "file_extension": ".py",
   "mimetype": "text/x-python",
   "name": "python",
   "nbconvert_exporter": "python",
   "pygments_lexer": "ipython3",
   "version": "3.10.13"
  }
 },
 "nbformat": 4,
 "nbformat_minor": 4
}
