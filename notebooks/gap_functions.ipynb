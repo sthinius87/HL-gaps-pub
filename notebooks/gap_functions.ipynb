{
 "cells": [
  {
   "cell_type": "markdown",
   "id": "1b66dd3d-8c46-4afd-b093-9589ebb82579",
   "metadata": {},
   "source": [
    "## imports"
   ]
  },
  {
   "cell_type": "code",
   "execution_count": 1,
   "id": "bb3caa85-22de-4831-8eeb-00db4bb2735c",
   "metadata": {
    "execution": {
     "iopub.execute_input": "2023-11-29T09:43:33.852252Z",
     "iopub.status.busy": "2023-11-29T09:43:33.851012Z",
     "iopub.status.idle": "2023-11-29T09:43:34.640960Z",
     "shell.execute_reply": "2023-11-29T09:43:34.639813Z",
     "shell.execute_reply.started": "2023-11-29T09:43:33.852193Z"
    },
    "tags": []
   },
   "outputs": [],
   "source": [
    "import os\n",
    "from io import StringIO\n",
    "import subprocess\n",
    "\n",
    "import time\n",
    "import math\n",
    "import pandas as pd\n",
    "\n",
    "# rdkit\n",
    "from rdkit import Chem\n",
    "from rdkit.Chem import AllChem\n",
    "\n",
    "#ase\n",
    "from ase import io\n",
    "from ase.units import Hartree,_amu, Bohr,kB,eV\n",
    "from ase.optimize import BFGS\n",
    "from xtb.libxtb import VERBOSITY_MINIMAL,VERBOSITY_MUTED\n",
    "\n",
    "#xtb\n",
    "from xtb.ase.calculator import XTB\n",
    "from xtb.interface import Calculator, Param"
   ]
  },
  {
   "cell_type": "code",
   "execution_count": 2,
   "id": "da066602-b597-4fdf-b835-20eb58360653",
   "metadata": {
    "execution": {
     "iopub.execute_input": "2023-11-29T09:43:34.644162Z",
     "iopub.status.busy": "2023-11-29T09:43:34.643539Z",
     "iopub.status.idle": "2023-11-29T09:43:34.648995Z",
     "shell.execute_reply": "2023-11-29T09:43:34.648159Z",
     "shell.execute_reply.started": "2023-11-29T09:43:34.644121Z"
    },
    "tags": []
   },
   "outputs": [],
   "source": [
    "os.environ['XTBPATH'] =\"/home/sat/anaconda3/envs/py310gpaw/share/xtb\""
   ]
  },
  {
   "cell_type": "markdown",
   "id": "69314f9d-1f1a-48e6-a8d1-81856fe0b6a5",
   "metadata": {},
   "source": [
    "## packages"
   ]
  },
  {
   "cell_type": "raw",
   "id": "d57605da-a688-46c8-83d4-293031111d9c",
   "metadata": {
    "execution": {
     "iopub.execute_input": "2023-11-29T09:43:34.651088Z",
     "iopub.status.busy": "2023-11-29T09:43:34.650599Z",
     "iopub.status.idle": "2023-11-29T09:43:36.326522Z",
     "shell.execute_reply": "2023-11-29T09:43:36.324679Z",
     "shell.execute_reply.started": "2023-11-29T09:43:34.651050Z"
    },
    "tags": []
   },
   "source": [
    "!pip freeze > requirements.txt\n",
    "!pip freeze"
   ]
  },
  {
   "cell_type": "raw",
   "id": "bd921f1c-8412-4726-a89b-0f63dbda0aad",
   "metadata": {
    "execution": {
     "iopub.execute_input": "2023-11-29T09:43:36.328868Z",
     "iopub.status.busy": "2023-11-29T09:43:36.328404Z",
     "iopub.status.idle": "2023-11-29T09:43:48.460508Z",
     "shell.execute_reply": "2023-11-29T09:43:48.458673Z",
     "shell.execute_reply.started": "2023-11-29T09:43:36.328822Z"
    },
    "tags": []
   },
   "source": [
    "!conda env export > environment.yml\n",
    "!conda list"
   ]
  },
  {
   "cell_type": "markdown",
   "id": "460852dc-9260-4b83-b6b2-a3ea8eda7766",
   "metadata": {},
   "source": [
    "## functionality"
   ]
  },
  {
   "cell_type": "code",
   "execution_count": 3,
   "id": "5e30bfeb-7d5c-44f9-af1b-bfbc891ed8bf",
   "metadata": {
    "execution": {
     "iopub.execute_input": "2023-11-29T09:43:48.465618Z",
     "iopub.status.busy": "2023-11-29T09:43:48.465155Z",
     "iopub.status.idle": "2023-11-29T09:43:48.474209Z",
     "shell.execute_reply": "2023-11-29T09:43:48.472760Z",
     "shell.execute_reply.started": "2023-11-29T09:43:48.465574Z"
    }
   },
   "outputs": [],
   "source": [
    "def get_dict(entry):\n",
    "    d={}\n",
    "    d['2dsdf']=entry[0].splitlines()\n",
    "    for item in entry[1:]:\n",
    "        tmp=list(item.replace('\\n','').split('>'))\n",
    "        #print (tmp,len(tmp))\n",
    "        d[tmp[0]]=tmp[1]\n",
    "    return d"
   ]
  },
  {
   "cell_type": "code",
   "execution_count": 4,
   "id": "1b81b49b-2799-40a4-929b-88c5854f386b",
   "metadata": {
    "execution": {
     "iopub.execute_input": "2023-11-29T09:43:48.475959Z",
     "iopub.status.busy": "2023-11-29T09:43:48.475541Z",
     "iopub.status.idle": "2023-11-29T09:43:48.540509Z",
     "shell.execute_reply": "2023-11-29T09:43:48.539131Z",
     "shell.execute_reply.started": "2023-11-29T09:43:48.475919Z"
    },
    "tags": []
   },
   "outputs": [],
   "source": [
    "def parse_db(f): #sdf-reader\n",
    "    dbfile =open(f,mode='r') #\"../DB/COCONUT_2022_01_2D.SDF\"\n",
    "    dbstr=dbfile.read()\n",
    "    dbfile.close()\n",
    "    dbitems=dbstr.split('$$$$\\n')\n",
    "    for num,item in enumerate(dbitems):\n",
    "        dbitems[num]=list(item.split('\\n> <'))\n",
    "    dbparsed=[]\n",
    "    for item in dbitems:\n",
    "        d=get_dict(item)\n",
    "        dbparsed.append(d)\n",
    "    #del dbparsed[-1]\n",
    "    return pd.DataFrame.from_dict(dbparsed,orient='columns')"
   ]
  },
  {
   "cell_type": "code",
   "execution_count": 5,
   "id": "7cd2c1f9-c478-4477-b949-fbafb48029b7",
   "metadata": {
    "execution": {
     "iopub.execute_input": "2023-11-29T09:43:48.542057Z",
     "iopub.status.busy": "2023-11-29T09:43:48.541642Z",
     "iopub.status.idle": "2023-11-29T09:43:48.601235Z",
     "shell.execute_reply": "2023-11-29T09:43:48.599814Z",
     "shell.execute_reply.started": "2023-11-29T09:43:48.542008Z"
    },
    "tags": []
   },
   "outputs": [],
   "source": [
    "def embend_confs(smile,n):\n",
    "    mol=Chem.MolFromSmiles(smile)\n",
    "    #print(Chem.MolToSmiles(mol))\n",
    "    try:\n",
    "        molHs=Chem.AddHs(mol)\n",
    "    except Exception as e:\n",
    "#        print(e)\n",
    "        print(\"    could not add H's: writing CH4 dummy\")\n",
    "        mol=Chem.MolFromSmiles('C')\n",
    "        molHs=Chem.AddHs(mol)\n",
    "        #print(Chem.MolToSmiles(molHs))\n",
    "    #AllChem.EmbedMolecule(molHs)\n",
    "    #print(\"!!!!!!\",molHs)\n",
    "    params = AllChem.ETKDGv3()\n",
    "    try:\n",
    "        #print('T R Y')\n",
    "        AllChem.EmbedMultipleConfs(molHs, numConfs = n , params = params)\n",
    "        #print(molHs.GetNumConformers())\n",
    "    except Exception as e:\n",
    "        print(e)\n",
    "        #print('E X C')\n",
    "    if molHs.GetNumConformers()==0:\n",
    "        print(\"    embedding failed: starting with random coordinates\")\n",
    "        params.useRandomCoords=True\n",
    "#        params.maxAttempts=10000\n",
    "#        params.boxSizeMult=5.0\n",
    "#        params.enforceChirality=False\n",
    "#        params.ignoreSmoothingFailures=True\n",
    "        AllChem.EmbedMultipleConfs(molHs, numConfs = n, params = params )\n",
    "        print(\"    number of conformers by random coordinates\",molHs.GetNumConformers())\n",
    "        if molHs.GetNumConformers()==0:\n",
    "            print(\"    could not embed multiple confs: writing CH4 dummy\")\n",
    "            mol=Chem.MolFromSmiles('C')\n",
    "            molHs=Chem.AddHs(mol)\n",
    "            AllChem.EmbedMultipleConfs(molHs, numConfs = n , params = params)\n",
    "    return molHs"
   ]
  },
  {
   "cell_type": "code",
   "execution_count": 6,
   "id": "9d90a37c-5e45-4663-b2f8-e7abe1a01a61",
   "metadata": {
    "execution": {
     "iopub.execute_input": "2023-11-29T09:43:48.603090Z",
     "iopub.status.busy": "2023-11-29T09:43:48.602670Z",
     "iopub.status.idle": "2023-11-29T09:43:48.660376Z",
     "shell.execute_reply": "2023-11-29T09:43:48.658887Z",
     "shell.execute_reply.started": "2023-11-29T09:43:48.603050Z"
    },
    "tags": []
   },
   "outputs": [],
   "source": [
    "def get_hlgap(res):\n",
    "    eigen=res.get_orbital_eigenvalues()\n",
    "    occup=res.get_orbital_occupations()\n",
    "    thresh=1e-2\n",
    "    for num,(e,o) in enumerate(zip(eigen,occup)):\n",
    "        if o<thresh:\n",
    "            lumo=eigen[num]\n",
    "            homo=eigen[num-1]\n",
    "            gap=(lumo-homo)*Hartree\n",
    "            break\n",
    "    return gap"
   ]
  },
  {
   "cell_type": "code",
   "execution_count": 7,
   "id": "4b88992b-2fe6-49bb-bc49-c8b4cf65d816",
   "metadata": {
    "execution": {
     "iopub.execute_input": "2023-11-29T09:43:48.661926Z",
     "iopub.status.busy": "2023-11-29T09:43:48.661515Z",
     "iopub.status.idle": "2023-11-29T09:43:48.720449Z",
     "shell.execute_reply": "2023-11-29T09:43:48.719065Z",
     "shell.execute_reply.started": "2023-11-29T09:43:48.661887Z"
    },
    "tags": []
   },
   "outputs": [],
   "source": [
    "def boltzweight(gap,ene):\n",
    "    bsum=0.0\n",
    "    temp=300.00\n",
    "    #print(ene.values())\n",
    "    minfree=min(ene.values())\n",
    "    for e in ene.values():\n",
    "        bsum+= math.exp( -((e - minfree) * Hartree ) / (kB * temp) )\n",
    "    bweight={}\n",
    "    for n,e in enumerate(ene.values()):\n",
    "        bweight[n]= math.exp( -((e - minfree) * Hartree ) / (kB * temp) ) / bsum\n",
    "    #print(bweight)\n",
    "    gapw=0.0\n",
    "    for b,g in zip(bweight.values(),gap.values()):\n",
    "        gapw+=b*g\n",
    "    return gapw"
   ]
  },
  {
   "cell_type": "code",
   "execution_count": 8,
   "id": "2b3c75e6-72fb-4d90-b6ea-52f25727b36f",
   "metadata": {
    "execution": {
     "iopub.execute_input": "2023-11-29T09:43:48.722192Z",
     "iopub.status.busy": "2023-11-29T09:43:48.721775Z",
     "iopub.status.idle": "2023-11-29T09:43:48.782174Z",
     "shell.execute_reply": "2023-11-29T09:43:48.780710Z",
     "shell.execute_reply.started": "2023-11-29T09:43:48.722153Z"
    },
    "tags": []
   },
   "outputs": [],
   "source": [
    "def calc_gap(mol,method,accuracy,temp):\n",
    "    gap_d={}\n",
    "    ene_d={}\n",
    "    for c in range(mol.GetNumConformers()):\n",
    "        strio=StringIO(Chem.MolToMolBlock(mol,confId=c))\n",
    "        molase=io.read(strio,format='mol')\n",
    "        strio.close()\n",
    "        molase.calc = XTB(method=method,accuracy=accuracy,electronic_temperature=temp,max_iterations=300,) #GFNFF\n",
    "        opt = BFGS(molase,trajectory=None,logfile=None) #'BFGS_'+method+'_confID_'+str(c)+'.traj') \n",
    "        opt.run(fmax=1.0e-03*molase.get_number_of_atoms())\n",
    "        numbers=molase.get_atomic_numbers()\n",
    "        positions=molase.get_positions()/Bohr\n",
    "        if method==\"GFN0-xTB\":\n",
    "            calc = Calculator(Param.GFN0xTB, numbers, positions)\n",
    "        if method==\"GFN1-xTB\":\n",
    "            calc = Calculator(Param.GFN1xTB, numbers, positions)\n",
    "        if method==\"GFN2-xTB\":\n",
    "            calc = Calculator(Param.GFN2xTB, numbers, positions)\n",
    "        if method==\"IPAE-xTB\":\n",
    "            calc = Calculator(Param.IPEAxTB, numbers, positions)\n",
    "        calc.set_electronic_temperature(temp)\n",
    "        calc.set_accuracy(accuracy)\n",
    "        calc.set_verbosity(VERBOSITY_MUTED)\n",
    "        res = calc.singlepoint()\n",
    "        ene=res.get_energy()\n",
    "        gap=get_hlgap(res)\n",
    "        #print(\"finished conformer \",format(c+1, \"2d\"),\"/\",mol.GetNumConformers(),\" with HL-gap\", format(gap, \"7.3f\"))\n",
    "        gap_d[c]=gap\n",
    "        ene_d[c]=ene\n",
    "    #print(gap_d, ene_d)\n",
    "    gapw=boltzweight(gap_d,ene_d)\n",
    "    return gapw"
   ]
  },
  {
   "cell_type": "markdown",
   "id": "4492fd2d-2d77-4bfe-bd9a-8b021b36d7cb",
   "metadata": {},
   "source": [
    "## parse coconut-db"
   ]
  },
  {
   "cell_type": "code",
   "execution_count": 9,
   "id": "021133da-b037-4979-a0d4-bc94f289a0ca",
   "metadata": {
    "execution": {
     "iopub.execute_input": "2023-11-29T09:43:48.783672Z",
     "iopub.status.busy": "2023-11-29T09:43:48.783271Z",
     "iopub.status.idle": "2023-11-29T09:44:27.404682Z",
     "shell.execute_reply": "2023-11-29T09:44:27.403178Z",
     "shell.execute_reply.started": "2023-11-29T09:43:48.783634Z"
    },
    "tags": []
   },
   "outputs": [
    {
     "data": {
      "text/html": [
       "<div>\n",
       "<style scoped>\n",
       "    .dataframe tbody tr th:only-of-type {\n",
       "        vertical-align: middle;\n",
       "    }\n",
       "\n",
       "    .dataframe tbody tr th {\n",
       "        vertical-align: top;\n",
       "    }\n",
       "\n",
       "    .dataframe thead th {\n",
       "        text-align: right;\n",
       "    }\n",
       "</style>\n",
       "<table border=\"1\" class=\"dataframe\">\n",
       "  <thead>\n",
       "    <tr style=\"text-align: right;\">\n",
       "      <th></th>\n",
       "      <th>2dsdf</th>\n",
       "      <th>coconut_id</th>\n",
       "      <th>inchi</th>\n",
       "      <th>inchikey</th>\n",
       "      <th>SMILES</th>\n",
       "      <th>sugar_free_smiles</th>\n",
       "      <th>molecular_formula</th>\n",
       "      <th>molecular_weight</th>\n",
       "      <th>citationDOI</th>\n",
       "      <th>textTaxa</th>\n",
       "      <th>...</th>\n",
       "      <th>number_of_nitrogens</th>\n",
       "      <th>number_of_oxygens</th>\n",
       "      <th>number_of_rings</th>\n",
       "      <th>total_atom_number</th>\n",
       "      <th>bond_count</th>\n",
       "      <th>found_in_databases</th>\n",
       "      <th>murko_framework</th>\n",
       "      <th>alogp</th>\n",
       "      <th>apol</th>\n",
       "      <th>topoPSA</th>\n",
       "    </tr>\n",
       "  </thead>\n",
       "  <tbody>\n",
       "    <tr>\n",
       "      <th>0</th>\n",
       "      <td>[,   CDK     04252213402D, ,   8 12  0  0  0  ...</td>\n",
       "      <td>CNP0001514</td>\n",
       "      <td>InChI=1S/C8H4/c1-2-5-3(1)7-4(1)6(2)8(5)7/h1-3,6H</td>\n",
       "      <td>KWFAQPWLROZBAY-UHFFFAOYSA-N</td>\n",
       "      <td>C1=2C3=C4C1C5C2C3C45</td>\n",
       "      <td>C1=2C3=C4C1C5C2C3C45</td>\n",
       "      <td>C8H4</td>\n",
       "      <td>100.11765018960718</td>\n",
       "      <td>[]</td>\n",
       "      <td>[notax]</td>\n",
       "      <td>...</td>\n",
       "      <td>0</td>\n",
       "      <td>0</td>\n",
       "      <td></td>\n",
       "      <td>12</td>\n",
       "      <td>12</td>\n",
       "      <td>[fooddb, pubchem]</td>\n",
       "      <td>C1=2C3=C4C1C5C2C3C45</td>\n",
       "      <td>0.4171999999999998</td>\n",
       "      <td>16.747172</td>\n",
       "      <td>0.0</td>\n",
       "    </tr>\n",
       "  </tbody>\n",
       "</table>\n",
       "<p>1 rows × 24 columns</p>\n",
       "</div>"
      ],
      "text/plain": [
       "                                               2dsdf  coconut_id  \\\n",
       "0  [,   CDK     04252213402D, ,   8 12  0  0  0  ...  CNP0001514   \n",
       "\n",
       "                                              inchi  \\\n",
       "0  InChI=1S/C8H4/c1-2-5-3(1)7-4(1)6(2)8(5)7/h1-3,6H   \n",
       "\n",
       "                      inchikey                SMILES     sugar_free_smiles  \\\n",
       "0  KWFAQPWLROZBAY-UHFFFAOYSA-N  C1=2C3=C4C1C5C2C3C45  C1=2C3=C4C1C5C2C3C45   \n",
       "\n",
       "  molecular_formula    molecular_weight citationDOI textTaxa  ...  \\\n",
       "0              C8H4  100.11765018960718          []  [notax]  ...   \n",
       "\n",
       "  number_of_nitrogens number_of_oxygens number_of_rings total_atom_number  \\\n",
       "0                   0                 0                                12   \n",
       "\n",
       "  bond_count found_in_databases       murko_framework               alogp  \\\n",
       "0         12  [fooddb, pubchem]  C1=2C3=C4C1C5C2C3C45  0.4171999999999998   \n",
       "\n",
       "        apol topoPSA  \n",
       "0  16.747172     0.0  \n",
       "\n",
       "[1 rows x 24 columns]"
      ]
     },
     "execution_count": 9,
     "metadata": {},
     "output_type": "execute_result"
    }
   ],
   "source": [
    "pref=subprocess.getoutput(\"pwd\")+\"/../data/db_split/\"\n",
    "coconut_df=parse_db(f=pref+\"/1366_COCONUT_2022_01_2D.SDF\") \n",
    "coconut_df"
   ]
  },
  {
   "cell_type": "markdown",
   "id": "bdfe388c-8fbb-4b4f-8abd-4f691b54d396",
   "metadata": {
    "execution": {
     "iopub.execute_input": "2023-11-06T13:56:53.560863Z",
     "iopub.status.busy": "2023-11-06T13:56:53.560351Z",
     "iopub.status.idle": "2023-11-06T13:56:53.567668Z",
     "shell.execute_reply": "2023-11-06T13:56:53.566062Z",
     "shell.execute_reply.started": "2023-11-06T13:56:53.560819Z"
    },
    "tags": []
   },
   "source": [
    "## input and run"
   ]
  },
  {
   "cell_type": "code",
   "execution_count": 13,
   "id": "58d53c34-509c-474c-bd99-852b34ab9c77",
   "metadata": {
    "execution": {
     "iopub.execute_input": "2023-11-29T09:44:27.406330Z",
     "iopub.status.busy": "2023-11-29T09:44:27.405965Z",
     "iopub.status.idle": "2023-11-29T09:44:27.617838Z",
     "shell.execute_reply": "2023-11-29T09:44:27.616495Z",
     "shell.execute_reply.started": "2023-11-29T09:44:27.406300Z"
    },
    "tags": []
   },
   "outputs": [
    {
     "data": {
      "text/plain": [
       "10"
      ]
     },
     "execution_count": 13,
     "metadata": {},
     "output_type": "execute_result"
    }
   ],
   "source": [
    "dbentry =0         # idx of db entry\n",
    "nconfs  =10         # number of conformers to generate for the molecule\n",
    "accuracy=1.0       #smaller means higher accuracy from  1000 to 0.0001\n",
    "temp    =300.0     #electronic temperature\n",
    "method=\"GFN2-xTB\"  # the tight-binding method to use [\"GFN0-xTB\",\"GFN1-xTB\",\"GFN2-xTB\",\"IPEA-xTB\"]\n",
    "\n",
    "smile=coconut_df['SMILES'].iloc[dbentry]\n",
    "smile=\"C\" #smile string of the molecule \n",
    "confs= embend_confs(smile=smile,n=nconfs) # the molecule under investigation including conformers\n",
    "confs.GetNumConformers()"
   ]
  },
  {
   "cell_type": "code",
   "execution_count": 14,
   "id": "7e816ffc",
   "metadata": {},
   "outputs": [
    {
     "data": {
      "image/png": "[encoded data removed]",
      "text/plain": [
       "<rdkit.Chem.rdchem.Mol at 0x7f2fab4bcd60>"
      ]
     },
     "execution_count": 14,
     "metadata": {},
     "output_type": "execute_result"
    }
   ],
   "source": [
    "mm=Chem.MolFromSmiles(smile)\n",
    "mm"
   ]
  },
  {
   "cell_type": "code",
   "execution_count": 15,
   "id": "4cec9221",
   "metadata": {},
   "outputs": [
    {
     "data": {
      "text/plain": [
       "10"
      ]
     },
     "execution_count": 15,
     "metadata": {},
     "output_type": "execute_result"
    }
   ],
   "source": [
    "c=confs.GetNumConformers()\n",
    "c"
   ]
  },
  {
   "cell_type": "code",
   "execution_count": 16,
   "id": "4dd3f64c-3f3a-456e-90cc-f61e329da512",
   "metadata": {
    "execution": {
     "iopub.execute_input": "2023-11-29T09:44:27.619125Z",
     "iopub.status.busy": "2023-11-29T09:44:27.618823Z",
     "iopub.status.idle": "2023-11-29T09:48:53.404330Z",
     "shell.execute_reply": "2023-11-29T09:48:53.403086Z",
     "shell.execute_reply.started": "2023-11-29T09:44:27.619095Z"
    },
    "tags": []
   },
   "outputs": [
    {
     "name": "stderr",
     "output_type": "stream",
     "text": [
      "/home/sat/anaconda3/envs/py310electronic_gaps/lib/python3.10/site-packages/ase/atoms.py:967: VisibleDeprecationWarning: Use get_global_number_of_atoms() instead\n",
      "  warnings.warn('Use get_global_number_of_atoms() instead',\n",
      "/tmp/ipykernel_23991/130611130.py:9: ResourceWarning: unclosed file <_io.TextIOWrapper name='/dev/null' mode='a' encoding='UTF-8'>\n",
      "  opt = BFGS(molase,trajectory=None,logfile=None) #'BFGS_'+method+'_confID_'+str(c)+'.traj')\n",
      "ResourceWarning: Enable tracemalloc to get the object allocation traceback\n"
     ]
    },
    {
     "name": "stdout",
     "output_type": "stream",
     "text": [
      "17.353466285473402\n"
     ]
    }
   ],
   "source": [
    "gap=calc_gap(mol=confs,method=method,accuracy=accuracy,temp=temp)\n",
    "print(gap)"
   ]
  },
  {
   "cell_type": "markdown",
   "id": "d20acc84-ce04-445a-b0a8-215a854bbf6c",
   "metadata": {},
   "source": [
    "## example loop in python >>> should be done with CWL scatter "
   ]
  },
  {
   "cell_type": "code",
   "execution_count": null,
   "id": "d35ebeb6-21da-45ed-bba7-fbff22b7b8c7",
   "metadata": {
    "scrolled": true,
    "tags": []
   },
   "outputs": [],
   "source": [
    "#example loop in python >>> should be done with CWL scatter \n",
    "gaps={}\n",
    "t0=time.time()\n",
    "ra=range(385,387)\n",
    "#ra=range(0,407270,200)\n",
    "#ra=range(1201,1402,200)\n",
    "for idx,dbentry in zip(coconut_df.iloc[ra].index,coconut_df['SMILES'].iloc[ra]): #error handling for \"0\"\n",
    "    #print(dbentry)\n",
    "    #CWL-loop around this\n",
    "    t0i=time.time()\n",
    "    confs= embend_confs(smile=dbentry,n=nconfs) # the molecule under investigation including conformers\n",
    "    #print(confs.GetNumConformers())\n",
    "    gap=calc_gap(mol=confs,method=method,accuracy=accuracy,temp=temp)\n",
    "    gaps[idx]=gap\n",
    "    t1i=time.time()\n",
    "    print('finished molecule: ',idx,dbentry,gap,t1i-t0i)\n",
    "t1=time.time()\n",
    "dt=t1-t0\n",
    "print(dt)"
   ]
  },
  {
   "cell_type": "markdown",
   "id": "01eb209a-9664-44a7-9b6c-dbfe3a8c411f",
   "metadata": {},
   "source": [
    "## old stuff not needed"
   ]
  },
  {
   "cell_type": "code",
   "execution_count": null,
   "id": "e48beb9d-b637-483f-8ae8-eb007aead88f",
   "metadata": {
    "tags": []
   },
   "outputs": [],
   "source": [
    "dt/60/60"
   ]
  },
  {
   "cell_type": "code",
   "execution_count": null,
   "id": "c1b37c76-9f64-47ad-8590-a1fea055487a",
   "metadata": {
    "scrolled": true,
    "tags": []
   },
   "outputs": [],
   "source": [
    "gaps_0=gaps\n",
    "gaps_0"
   ]
  },
  {
   "cell_type": "code",
   "execution_count": null,
   "id": "6e61b698-34b2-4d78-9b44-b0953241e214",
   "metadata": {
    "tags": []
   },
   "outputs": [],
   "source": [
    "gaps_df=pd.DataFrame.from_dict(gaps,orient='index')\n",
    "gaps_df"
   ]
  },
  {
   "cell_type": "code",
   "execution_count": null,
   "id": "78e38644-1cce-495f-aa40-64bb9e2ee715",
   "metadata": {
    "tags": []
   },
   "outputs": [],
   "source": [
    "ax = gaps_df.plot.hist(bins=50, alpha=0.5)"
   ]
  },
  {
   "cell_type": "code",
   "execution_count": null,
   "id": "debb2dbb-063d-4412-9e0c-ce0a5cc652d4",
   "metadata": {
    "tags": []
   },
   "outputs": [],
   "source": [
    "#accuracy\n",
    "#   0.01 45.7743270397186 s 1.689028994193965 eV\n",
    "#   1.00 31.0500078201293 s 1.689004691284549 eV\n",
    "# 100.00 25.1419575214386 s 1.716191329441809 eV\n",
    "#gap\n",
    "# 1.7158121835260607 eV #  5\n",
    "# 1.6964008849101262 eV # 10\n",
    "# 1.7274967423935927 eV #100"
   ]
  },
  {
   "cell_type": "code",
   "execution_count": null,
   "id": "a7af8c5d-138a-4e7a-9021-6e136bdff2ae",
   "metadata": {},
   "outputs": [],
   "source": []
  }
 ],
 "metadata": {
  "kernelspec": {
   "display_name": "py310electronic_gaps",
   "language": "python",
   "name": "py310electronic_gaps"
  },
  "language_info": {
   "codemirror_mode": {
    "name": "ipython",
    "version": 3
   },
   "file_extension": ".py",
   "mimetype": "text/x-python",
   "name": "python",
   "nbconvert_exporter": "python",
   "pygments_lexer": "ipython3",
   "version": "3.10.13"
  }
 },
 "nbformat": 4,
 "nbformat_minor": 5
}
