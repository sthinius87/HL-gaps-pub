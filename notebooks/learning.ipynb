{
 "cells": [
  {
   "cell_type": "code",
   "execution_count": null,
   "metadata": {},
   "outputs": [],
   "source": [
    "import pandas as pd\n",
    "import numpy as np\n",
    "#----------------------------------------------------\n",
    "from sklearn.model_selection import cross_val_score,train_test_split\n",
    "from sklearn.metrics import r2_score,mean_absolute_error, mean_squared_error\n",
    "import missingno as msno\n",
    "from sklearn.preprocessing import StandardScaler\n",
    "from sklearn.model_selection import train_test_split\n",
    "from sklearn.ensemble import RandomForestRegressor\n",
    "from sklearn.metrics import PredictionErrorDisplay as PED\n",
    "from sklearn.model_selection import cross_val_score\n",
    "from sklearn.impute import SimpleImputer\n",
    "#----------------------------------------------------\n",
    "from matplotlib import pyplot as plt\n",
    "import matplotlib.patches as mpatches\n",
    "import seaborn as sns\n",
    "#----------------------------------------------------\n",
    "\n",
    "\n",
    "from flaml import AutoML"
   ]
  },
  {
   "cell_type": "code",
   "execution_count": null,
   "metadata": {},
   "outputs": [],
   "source": [
    "ll=list(range(0,100001,1))\n",
    "len(ll[0:100001:10])"
   ]
  },
  {
   "cell_type": "code",
   "execution_count": null,
   "metadata": {},
   "outputs": [],
   "source": [
    "import warnings\n",
    "warnings.filterwarnings(\"ignore\")"
   ]
  },
  {
   "cell_type": "code",
   "execution_count": null,
   "metadata": {},
   "outputs": [],
   "source": [
    "df_new=pd.read_pickle(\"./calc_descriptors.pkl\")\n",
    "df_new"
   ]
  },
  {
   "cell_type": "code",
   "execution_count": null,
   "metadata": {},
   "outputs": [],
   "source": [
    "def remove_correlated_features(descriptors):\n",
    "    # Calculate correlation\n",
    "    correlated_matrix = descriptors.corr().abs()\n",
    "\n",
    "    # Upper triangle of correlation matrix\n",
    "    upper_triangle = correlated_matrix.where(np.triu(np.ones(correlated_matrix.shape),k=1).astype(bool))\n",
    "\n",
    "    # Identify columns that have above 0.9 values of correlation\n",
    "    to_drop = [column for column in upper_triangle.columns if any(upper_triangle[column] >= 0.8)]\n",
    "    print(to_drop)\n",
    "    descriptors_correlated_dropped = descriptors.drop(columns=to_drop, axis=1)\n",
    "    return descriptors_correlated_dropped\n",
    "\n",
    "df_new = remove_correlated_features(df_new)\n",
    "df_new"
   ]
  },
  {
   "cell_type": "code",
   "execution_count": null,
   "metadata": {},
   "outputs": [],
   "source": [
    "df_new=df_new.dropna(axis='columns')\n",
    "df_new.replace([np.inf, -np.inf], np.nan, inplace=True)\n",
    "zero_cols = df_new.columns[(df_new == 0).all()]\n",
    "df_new.drop(labels=zero_cols, axis=1, inplace=True)\n",
    "df_new"
   ]
  },
  {
   "cell_type": "code",
   "execution_count": null,
   "metadata": {},
   "outputs": [],
   "source": [
    "# credit to dataprofessor\n",
    "# adapted from:https://github.com/dataprofessor/padel/blob/main/padelpy.ipynb\n",
    "\n",
    "from sklearn.feature_selection import VarianceThreshold\n",
    "\n",
    "def remove_low_variance(input_data, threshold=0.1):\n",
    "    selection = VarianceThreshold(threshold)\n",
    "    selection.fit(input_data)\n",
    "    return input_data[input_data.columns[selection.get_support(indices=True)]]\n",
    "\n",
    "X = remove_low_variance(df_new, threshold=0.1)\n",
    "X"
   ]
  },
  {
   "cell_type": "code",
   "execution_count": null,
   "metadata": {},
   "outputs": [],
   "source": [
    "X[np.isfinite(X).any(axis=1)]"
   ]
  },
  {
   "cell_type": "code",
   "execution_count": null,
   "metadata": {},
   "outputs": [],
   "source": [
    "X.to_pickle(\"./calc_descriptors_final.pkl\")"
   ]
  },
  {
   "cell_type": "code",
   "execution_count": null,
   "metadata": {},
   "outputs": [],
   "source": [
    "msno.bar(X)"
   ]
  },
  {
   "cell_type": "code",
   "execution_count": null,
   "metadata": {},
   "outputs": [],
   "source": [
    "X.max(axis=0)"
   ]
  },
  {
   "cell_type": "code",
   "execution_count": null,
   "metadata": {},
   "outputs": [],
   "source": [
    "X.min(axis=0)"
   ]
  },
  {
   "cell_type": "code",
   "execution_count": null,
   "metadata": {},
   "outputs": [],
   "source": [
    "scaler=StandardScaler().fit(X)\n",
    "scaled=scaler.transform(X)"
   ]
  },
  {
   "cell_type": "code",
   "execution_count": null,
   "metadata": {},
   "outputs": [],
   "source": [
    "print(np.max(scaled),np.min(scaled))"
   ]
  },
  {
   "cell_type": "code",
   "execution_count": null,
   "metadata": {},
   "outputs": [],
   "source": [
    "np.all(np.isfinite(scaled))"
   ]
  },
  {
   "cell_type": "code",
   "execution_count": null,
   "metadata": {},
   "outputs": [],
   "source": [
    "df=pd.read_pickle(\"./gap_smile.pkl\")"
   ]
  },
  {
   "cell_type": "code",
   "execution_count": null,
   "metadata": {},
   "outputs": [],
   "source": [
    "y=df[\"GAP\"][0:100001:10]\n",
    "X_train, X_test, y_train, y_test = train_test_split(scaled,y,test_size=0.3,random_state=42)"
   ]
  },
  {
   "cell_type": "code",
   "execution_count": null,
   "metadata": {},
   "outputs": [],
   "source": [
    "del df\n",
    "del df_new\n"
   ]
  },
  {
   "cell_type": "code",
   "execution_count": null,
   "metadata": {},
   "outputs": [],
   "source": [
    "automl = AutoML()\n",
    "automl_settings = {\n",
    "    \"time_budget\": 36000,\n",
    "    \"metric\": 'r2',\n",
    "    \"task\": 'regression',\n",
    "    \"log_file_name\": 'gap.log',\n",
    "#    \"estimator_list\": ['lgbm', 'xgboost', 'xgb_limitdepth', 'catboost', 'rf', 'extra_tree']\n",
    "}\n",
    "automl.fit(X_train = X_train, y_train = y_train, **automl_settings)"
   ]
  },
  {
   "cell_type": "code",
   "execution_count": null,
   "metadata": {},
   "outputs": [],
   "source": [
    "y_pred=automl.predict(X_test)"
   ]
  },
  {
   "cell_type": "code",
   "execution_count": null,
   "metadata": {},
   "outputs": [],
   "source": [
    "fig, axs = plt.subplots(ncols=2, figsize=(8, 4))\n",
    "PED.from_predictions(\n",
    "    y_test,\n",
    "    y_pred=y_pred,\n",
    "    kind=\"actual_vs_predicted\",\n",
    "    subsample=None,\n",
    "    ax=axs[0],\n",
    "    random_state=0,\n",
    ")\n",
    "axs[0].set_title(\"Actual vs. Predicted values\")\n",
    "axs[0].set_ylim(0,13)\n",
    "axs[0].set_xlim(0,13)\n",
    "axs[0].set_xticks(range(0,14,2))\n",
    "axs[0].set_yticks(range(0,14,2))\n",
    "PED.from_predictions(\n",
    "    y_test,\n",
    "    y_pred=y_pred,\n",
    "    kind=\"residual_vs_predicted\",\n",
    "    subsample=None,\n",
    "    ax=axs[1],\n",
    "    random_state=0,\n",
    ")\n",
    "axs[1].set_title(\"Residuals vs. Predicted Values\")\n",
    "axs[1].set_xlim(0,13)\n",
    "fig.suptitle(\"Plotting cross-validated predictions\")\n",
    "plt.tight_layout()\n",
    "plt.show()\n",
    "print(r2_score(y_pred=y_pred,y_true=y_test))"
   ]
  },
  {
   "cell_type": "code",
   "execution_count": null,
   "metadata": {},
   "outputs": [],
   "source": [
    "automl.model"
   ]
  },
  {
   "cell_type": "code",
   "execution_count": null,
   "metadata": {},
   "outputs": [],
   "source": [
    "automl.score"
   ]
  },
  {
   "cell_type": "code",
   "execution_count": null,
   "metadata": {},
   "outputs": [],
   "source": [
    "automl.best_result"
   ]
  },
  {
   "cell_type": "code",
   "execution_count": null,
   "metadata": {},
   "outputs": [],
   "source": [
    "automl.best_config"
   ]
  },
  {
   "cell_type": "code",
   "execution_count": null,
   "metadata": {},
   "outputs": [],
   "source": [
    "X.columns"
   ]
  },
  {
   "cell_type": "code",
   "execution_count": null,
   "metadata": {},
   "outputs": [],
   "source": [
    "f_imp=[[names,features] for names,features in zip(X.columns,automl.feature_importances_)]\n",
    "#sns.displot(x=[n[1] for n in f_imp],legend=[n[0] for n in f_imp])\n",
    "df_imp=pd.DataFrame(data=f_imp,columns=[\"features\",\"importance\"])\n",
    "df_imp.sort_values(by=\"importance\")"
   ]
  },
  {
   "cell_type": "code",
   "execution_count": null,
   "metadata": {},
   "outputs": [],
   "source": [
    "600*(4*60+30)/24/60"
   ]
  }
 ],
 "metadata": {
  "kernelspec": {
   "display_name": "Python 3 (ipykernel)",
   "language": "python",
   "name": "python3"
  },
  "language_info": {
   "codemirror_mode": {
    "name": "ipython",
    "version": 3
   },
   "file_extension": ".py",
   "mimetype": "text/x-python",
   "name": "python",
   "nbconvert_exporter": "python",
   "pygments_lexer": "ipython3",
   "version": "3.10.13"
  }
 },
 "nbformat": 4,
 "nbformat_minor": 4
}
