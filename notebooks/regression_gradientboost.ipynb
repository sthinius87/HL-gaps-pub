{
 "cells": [
  {
   "cell_type": "code",
   "execution_count": 12,
   "metadata": {
    "execution": {
     "iopub.execute_input": "2024-05-28T04:21:32.671609Z",
     "iopub.status.busy": "2024-05-28T04:21:32.670486Z",
     "iopub.status.idle": "2024-05-28T04:21:32.679649Z",
     "shell.execute_reply": "2024-05-28T04:21:32.678335Z",
     "shell.execute_reply.started": "2024-05-28T04:21:32.671567Z"
    },
    "tags": []
   },
   "outputs": [],
   "source": [
    "import os\n",
    "import pandas as pd\n",
    "import numpy as np\n",
    "from scipy.stats import uniform, randint\n",
    "#----------------------------------------------------\n",
    "from sklearn.model_selection import cross_val_score,train_test_split, KFold,RandomizedSearchCV,GridSearchCV\n",
    "from sklearn.metrics import r2_score,mean_absolute_error, mean_squared_error\n",
    "import missingno as msno\n",
    "from sklearn.preprocessing import StandardScaler, MinMaxScaler\n",
    "from sklearn.model_selection import train_test_split\n",
    "from sklearn.ensemble import RandomForestRegressor, GradientBoostingRegressor\n",
    "from sklearn.metrics import PredictionErrorDisplay as PED\n",
    "from sklearn.model_selection import cross_val_score\n",
    "from sklearn.impute import SimpleImputer\n",
    "#----------------------------------------------------\n",
    "from matplotlib import pyplot as plt\n",
    "import matplotlib.patches as mpatches\n",
    "import seaborn as sns\n",
    "#-------------------------"
   ]
  },
  {
   "cell_type": "code",
   "execution_count": 13,
   "metadata": {
    "execution": {
     "iopub.execute_input": "2024-05-28T04:21:32.682290Z",
     "iopub.status.busy": "2024-05-28T04:21:32.681801Z",
     "iopub.status.idle": "2024-05-28T04:21:32.736522Z",
     "shell.execute_reply": "2024-05-28T04:21:32.735162Z",
     "shell.execute_reply.started": "2024-05-28T04:21:32.682253Z"
    }
   },
   "outputs": [],
   "source": [
    "#os.environ[\"OMP_NUM_THREADS\"]=\"1\"\n",
    "#os.environ[\"OPENBLAS_NUM_THREADS\"]=\"1\"\n",
    "#os.environ[\"\"]=\"16\""
   ]
  },
  {
   "cell_type": "code",
   "execution_count": 14,
   "metadata": {
    "execution": {
     "iopub.execute_input": "2024-05-28T04:21:32.738004Z",
     "iopub.status.busy": "2024-05-28T04:21:32.737614Z",
     "iopub.status.idle": "2024-05-28T04:21:33.009102Z",
     "shell.execute_reply": "2024-05-28T04:21:33.008155Z",
     "shell.execute_reply.started": "2024-05-28T04:21:32.737968Z"
    },
    "tags": []
   },
   "outputs": [
    {
     "data": {
      "text/html": [
       "<div>\n",
       "<style scoped>\n",
       "    .dataframe tbody tr th:only-of-type {\n",
       "        vertical-align: middle;\n",
       "    }\n",
       "\n",
       "    .dataframe tbody tr th {\n",
       "        vertical-align: top;\n",
       "    }\n",
       "\n",
       "    .dataframe thead th {\n",
       "        text-align: right;\n",
       "    }\n",
       "</style>\n",
       "<table border=\"1\" class=\"dataframe\">\n",
       "  <thead>\n",
       "    <tr style=\"text-align: right;\">\n",
       "      <th></th>\n",
       "      <th>MaxAbsEStateIndex</th>\n",
       "      <th>MinAbsEStateIndex</th>\n",
       "      <th>MinEStateIndex</th>\n",
       "      <th>SPS</th>\n",
       "      <th>MolWt</th>\n",
       "      <th>NumRadicalElectrons</th>\n",
       "      <th>FpDensityMorgan1</th>\n",
       "      <th>AvgIpc</th>\n",
       "      <th>BalabanJ</th>\n",
       "      <th>HallKierAlpha</th>\n",
       "      <th>...</th>\n",
       "      <th>fr_allylic_oxid</th>\n",
       "      <th>fr_amide</th>\n",
       "      <th>fr_aniline</th>\n",
       "      <th>fr_aryl_methyl</th>\n",
       "      <th>fr_bicyclic</th>\n",
       "      <th>fr_ester</th>\n",
       "      <th>fr_ether</th>\n",
       "      <th>fr_ketone</th>\n",
       "      <th>fr_para_hydroxylation</th>\n",
       "      <th>fr_piperdine</th>\n",
       "    </tr>\n",
       "  </thead>\n",
       "  <tbody>\n",
       "    <tr>\n",
       "      <th>0</th>\n",
       "      <td>13.421670</td>\n",
       "      <td>1.813652</td>\n",
       "      <td>-4.213449</td>\n",
       "      <td>93.904762</td>\n",
       "      <td>292.287</td>\n",
       "      <td>0</td>\n",
       "      <td>1.666667</td>\n",
       "      <td>3.203010</td>\n",
       "      <td>2.128362</td>\n",
       "      <td>-1.40</td>\n",
       "      <td>...</td>\n",
       "      <td>0</td>\n",
       "      <td>0</td>\n",
       "      <td>0</td>\n",
       "      <td>0</td>\n",
       "      <td>4</td>\n",
       "      <td>2</td>\n",
       "      <td>3</td>\n",
       "      <td>0</td>\n",
       "      <td>0</td>\n",
       "      <td>0</td>\n",
       "    </tr>\n",
       "    <tr>\n",
       "      <th>1</th>\n",
       "      <td>14.938999</td>\n",
       "      <td>0.626931</td>\n",
       "      <td>-6.373747</td>\n",
       "      <td>66.444444</td>\n",
       "      <td>660.651</td>\n",
       "      <td>0</td>\n",
       "      <td>1.377778</td>\n",
       "      <td>3.295038</td>\n",
       "      <td>3.117964</td>\n",
       "      <td>-3.23</td>\n",
       "      <td>...</td>\n",
       "      <td>2</td>\n",
       "      <td>0</td>\n",
       "      <td>0</td>\n",
       "      <td>0</td>\n",
       "      <td>0</td>\n",
       "      <td>2</td>\n",
       "      <td>6</td>\n",
       "      <td>2</td>\n",
       "      <td>0</td>\n",
       "      <td>0</td>\n",
       "    </tr>\n",
       "    <tr>\n",
       "      <th>2</th>\n",
       "      <td>15.674552</td>\n",
       "      <td>1.517576</td>\n",
       "      <td>-4.913705</td>\n",
       "      <td>45.409091</td>\n",
       "      <td>598.604</td>\n",
       "      <td>0</td>\n",
       "      <td>0.886364</td>\n",
       "      <td>3.352137</td>\n",
       "      <td>1.857894</td>\n",
       "      <td>-4.67</td>\n",
       "      <td>...</td>\n",
       "      <td>1</td>\n",
       "      <td>0</td>\n",
       "      <td>0</td>\n",
       "      <td>0</td>\n",
       "      <td>6</td>\n",
       "      <td>1</td>\n",
       "      <td>5</td>\n",
       "      <td>2</td>\n",
       "      <td>0</td>\n",
       "      <td>0</td>\n",
       "    </tr>\n",
       "    <tr>\n",
       "      <th>3</th>\n",
       "      <td>15.162100</td>\n",
       "      <td>1.184590</td>\n",
       "      <td>-4.773941</td>\n",
       "      <td>45.804878</td>\n",
       "      <td>554.551</td>\n",
       "      <td>0</td>\n",
       "      <td>1.048780</td>\n",
       "      <td>3.323824</td>\n",
       "      <td>1.856690</td>\n",
       "      <td>-4.47</td>\n",
       "      <td>...</td>\n",
       "      <td>1</td>\n",
       "      <td>0</td>\n",
       "      <td>0</td>\n",
       "      <td>0</td>\n",
       "      <td>6</td>\n",
       "      <td>1</td>\n",
       "      <td>3</td>\n",
       "      <td>2</td>\n",
       "      <td>0</td>\n",
       "      <td>0</td>\n",
       "    </tr>\n",
       "    <tr>\n",
       "      <th>4</th>\n",
       "      <td>14.690159</td>\n",
       "      <td>1.393863</td>\n",
       "      <td>-6.473465</td>\n",
       "      <td>57.538462</td>\n",
       "      <td>534.693</td>\n",
       "      <td>0</td>\n",
       "      <td>0.948718</td>\n",
       "      <td>3.304427</td>\n",
       "      <td>2.630768</td>\n",
       "      <td>-3.15</td>\n",
       "      <td>...</td>\n",
       "      <td>0</td>\n",
       "      <td>0</td>\n",
       "      <td>0</td>\n",
       "      <td>0</td>\n",
       "      <td>1</td>\n",
       "      <td>3</td>\n",
       "      <td>3</td>\n",
       "      <td>0</td>\n",
       "      <td>0</td>\n",
       "      <td>0</td>\n",
       "    </tr>\n",
       "    <tr>\n",
       "      <th>...</th>\n",
       "      <td>...</td>\n",
       "      <td>...</td>\n",
       "      <td>...</td>\n",
       "      <td>...</td>\n",
       "      <td>...</td>\n",
       "      <td>...</td>\n",
       "      <td>...</td>\n",
       "      <td>...</td>\n",
       "      <td>...</td>\n",
       "      <td>...</td>\n",
       "      <td>...</td>\n",
       "      <td>...</td>\n",
       "      <td>...</td>\n",
       "      <td>...</td>\n",
       "      <td>...</td>\n",
       "      <td>...</td>\n",
       "      <td>...</td>\n",
       "      <td>...</td>\n",
       "      <td>...</td>\n",
       "      <td>...</td>\n",
       "      <td>...</td>\n",
       "    </tr>\n",
       "    <tr>\n",
       "      <th>379431</th>\n",
       "      <td>14.867353</td>\n",
       "      <td>0.241020</td>\n",
       "      <td>-4.250377</td>\n",
       "      <td>48.218750</td>\n",
       "      <td>441.958</td>\n",
       "      <td>0</td>\n",
       "      <td>1.000000</td>\n",
       "      <td>3.247815</td>\n",
       "      <td>1.923121</td>\n",
       "      <td>-2.91</td>\n",
       "      <td>...</td>\n",
       "      <td>0</td>\n",
       "      <td>2</td>\n",
       "      <td>1</td>\n",
       "      <td>0</td>\n",
       "      <td>0</td>\n",
       "      <td>0</td>\n",
       "      <td>0</td>\n",
       "      <td>0</td>\n",
       "      <td>0</td>\n",
       "      <td>0</td>\n",
       "    </tr>\n",
       "    <tr>\n",
       "      <th>379432</th>\n",
       "      <td>13.317229</td>\n",
       "      <td>0.796810</td>\n",
       "      <td>-3.961122</td>\n",
       "      <td>27.363636</td>\n",
       "      <td>298.294</td>\n",
       "      <td>0</td>\n",
       "      <td>1.500000</td>\n",
       "      <td>3.008406</td>\n",
       "      <td>2.563076</td>\n",
       "      <td>-2.69</td>\n",
       "      <td>...</td>\n",
       "      <td>4</td>\n",
       "      <td>0</td>\n",
       "      <td>0</td>\n",
       "      <td>0</td>\n",
       "      <td>0</td>\n",
       "      <td>0</td>\n",
       "      <td>1</td>\n",
       "      <td>2</td>\n",
       "      <td>0</td>\n",
       "      <td>0</td>\n",
       "    </tr>\n",
       "    <tr>\n",
       "      <th>379433</th>\n",
       "      <td>14.428131</td>\n",
       "      <td>0.687438</td>\n",
       "      <td>-5.362506</td>\n",
       "      <td>22.894737</td>\n",
       "      <td>1406.844</td>\n",
       "      <td>0</td>\n",
       "      <td>0.539474</td>\n",
       "      <td>0.720333</td>\n",
       "      <td>1.821806</td>\n",
       "      <td>-4.93</td>\n",
       "      <td>...</td>\n",
       "      <td>0</td>\n",
       "      <td>4</td>\n",
       "      <td>0</td>\n",
       "      <td>0</td>\n",
       "      <td>0</td>\n",
       "      <td>0</td>\n",
       "      <td>0</td>\n",
       "      <td>0</td>\n",
       "      <td>0</td>\n",
       "      <td>0</td>\n",
       "    </tr>\n",
       "    <tr>\n",
       "      <th>379434</th>\n",
       "      <td>12.438990</td>\n",
       "      <td>0.806168</td>\n",
       "      <td>-4.833711</td>\n",
       "      <td>53.297297</td>\n",
       "      <td>523.467</td>\n",
       "      <td>0</td>\n",
       "      <td>1.243243</td>\n",
       "      <td>3.198133</td>\n",
       "      <td>2.348013</td>\n",
       "      <td>-3.91</td>\n",
       "      <td>...</td>\n",
       "      <td>2</td>\n",
       "      <td>0</td>\n",
       "      <td>0</td>\n",
       "      <td>0</td>\n",
       "      <td>1</td>\n",
       "      <td>1</td>\n",
       "      <td>4</td>\n",
       "      <td>0</td>\n",
       "      <td>0</td>\n",
       "      <td>0</td>\n",
       "    </tr>\n",
       "    <tr>\n",
       "      <th>379435</th>\n",
       "      <td>14.964494</td>\n",
       "      <td>1.044130</td>\n",
       "      <td>-6.039706</td>\n",
       "      <td>33.794118</td>\n",
       "      <td>478.467</td>\n",
       "      <td>0</td>\n",
       "      <td>1.205882</td>\n",
       "      <td>3.047997</td>\n",
       "      <td>2.269147</td>\n",
       "      <td>-3.08</td>\n",
       "      <td>...</td>\n",
       "      <td>0</td>\n",
       "      <td>0</td>\n",
       "      <td>0</td>\n",
       "      <td>0</td>\n",
       "      <td>1</td>\n",
       "      <td>0</td>\n",
       "      <td>1</td>\n",
       "      <td>0</td>\n",
       "      <td>0</td>\n",
       "      <td>0</td>\n",
       "    </tr>\n",
       "  </tbody>\n",
       "</table>\n",
       "<p>379436 rows × 64 columns</p>\n",
       "</div>"
      ],
      "text/plain": [
       "        MaxAbsEStateIndex  MinAbsEStateIndex  MinEStateIndex        SPS  \\\n",
       "0               13.421670           1.813652       -4.213449  93.904762   \n",
       "1               14.938999           0.626931       -6.373747  66.444444   \n",
       "2               15.674552           1.517576       -4.913705  45.409091   \n",
       "3               15.162100           1.184590       -4.773941  45.804878   \n",
       "4               14.690159           1.393863       -6.473465  57.538462   \n",
       "...                   ...                ...             ...        ...   \n",
       "379431          14.867353           0.241020       -4.250377  48.218750   \n",
       "379432          13.317229           0.796810       -3.961122  27.363636   \n",
       "379433          14.428131           0.687438       -5.362506  22.894737   \n",
       "379434          12.438990           0.806168       -4.833711  53.297297   \n",
       "379435          14.964494           1.044130       -6.039706  33.794118   \n",
       "\n",
       "           MolWt  NumRadicalElectrons  FpDensityMorgan1    AvgIpc  BalabanJ  \\\n",
       "0        292.287                    0          1.666667  3.203010  2.128362   \n",
       "1        660.651                    0          1.377778  3.295038  3.117964   \n",
       "2        598.604                    0          0.886364  3.352137  1.857894   \n",
       "3        554.551                    0          1.048780  3.323824  1.856690   \n",
       "4        534.693                    0          0.948718  3.304427  2.630768   \n",
       "...          ...                  ...               ...       ...       ...   \n",
       "379431   441.958                    0          1.000000  3.247815  1.923121   \n",
       "379432   298.294                    0          1.500000  3.008406  2.563076   \n",
       "379433  1406.844                    0          0.539474  0.720333  1.821806   \n",
       "379434   523.467                    0          1.243243  3.198133  2.348013   \n",
       "379435   478.467                    0          1.205882  3.047997  2.269147   \n",
       "\n",
       "        HallKierAlpha  ...  fr_allylic_oxid  fr_amide  fr_aniline  \\\n",
       "0               -1.40  ...                0         0           0   \n",
       "1               -3.23  ...                2         0           0   \n",
       "2               -4.67  ...                1         0           0   \n",
       "3               -4.47  ...                1         0           0   \n",
       "4               -3.15  ...                0         0           0   \n",
       "...               ...  ...              ...       ...         ...   \n",
       "379431          -2.91  ...                0         2           1   \n",
       "379432          -2.69  ...                4         0           0   \n",
       "379433          -4.93  ...                0         4           0   \n",
       "379434          -3.91  ...                2         0           0   \n",
       "379435          -3.08  ...                0         0           0   \n",
       "\n",
       "        fr_aryl_methyl  fr_bicyclic  fr_ester  fr_ether  fr_ketone  \\\n",
       "0                    0            4         2         3          0   \n",
       "1                    0            0         2         6          2   \n",
       "2                    0            6         1         5          2   \n",
       "3                    0            6         1         3          2   \n",
       "4                    0            1         3         3          0   \n",
       "...                ...          ...       ...       ...        ...   \n",
       "379431               0            0         0         0          0   \n",
       "379432               0            0         0         1          2   \n",
       "379433               0            0         0         0          0   \n",
       "379434               0            1         1         4          0   \n",
       "379435               0            1         0         1          0   \n",
       "\n",
       "        fr_para_hydroxylation  fr_piperdine  \n",
       "0                           0             0  \n",
       "1                           0             0  \n",
       "2                           0             0  \n",
       "3                           0             0  \n",
       "4                           0             0  \n",
       "...                       ...           ...  \n",
       "379431                      0             0  \n",
       "379432                      0             0  \n",
       "379433                      0             0  \n",
       "379434                      0             0  \n",
       "379435                      0             0  \n",
       "\n",
       "[379436 rows x 64 columns]"
      ]
     },
     "execution_count": 14,
     "metadata": {},
     "output_type": "execute_result"
    }
   ],
   "source": [
    "X=pd.read_pickle(\"./calc_descriptors_final.pkl\")\n",
    "X"
   ]
  },
  {
   "cell_type": "code",
   "execution_count": 15,
   "metadata": {
    "execution": {
     "iopub.execute_input": "2024-05-28T04:21:33.010358Z",
     "iopub.status.busy": "2024-05-28T04:21:33.010083Z",
     "iopub.status.idle": "2024-05-28T04:21:33.158836Z",
     "shell.execute_reply": "2024-05-28T04:21:33.158020Z",
     "shell.execute_reply.started": "2024-05-28T04:21:33.010332Z"
    },
    "tags": []
   },
   "outputs": [
    {
     "name": "stdout",
     "output_type": "stream",
     "text": [
      "[22.09648419252851, 6.578125, 1.8333333333333333, 174.46153846153845, 3346.7469999999694, 47.0, 3.1666666666666665, 4.470910219592702, 16.178658585168446, 3.48, 1.8921946381658235e+219, 262.69410682176897, 218.48144966478858, 73.88643956770869, 504.3927472774679, 168.41657261351563, 144.7797372464343, 158.26034981793367, 127.61033879255764, 651.9542087994623, 450.26909694298587, 356.7899894177422, 298.9535991427666, 168.35150635485522, 197.4768749954285, 196.10473441677982, 423.5589337685657, 511.7065531622684, 200.15222667361095, 149.2741116209439, 159.2994389794935, 354.4333787633144, 194.25498813858442, 144.81239539097268, 158.21972707437024, 103.63220752194897, 86.35118381109379, 90.36348250827223, 112.95435313534028, 90.36348250827223, 79.99490740740738, 94.16183718483633, 4.191473834840537, 1.6185128495842782, 40.0, 20.0, 9.0, 47.59725999999981, 12.0, 31.0, 10.0, 6.0, 31.0, 13.0, 44.0, 32.0, 8.0, 14.0, 39.0, 28.0, 39.0, 9.0, 8.0, 8.0] [1.8333333333333333, 4.440892098500626e-16, -12.903365470087044, 3.0, 76.05799999999999, 0.0, 0.08421052631578947, 0.22157850888628727, 0.638748727680262, -29.599999999999934, 12.16479703638053, 0.0, 0.0, 0.0, 0.0, 0.0, 0.0, 0.0, 0.0, 0.0, 0.0, 0.0, 0.0, 0.0, 0.0, 0.0, 0.0, 0.0, 0.0, 0.0, 0.0, 0.0, 0.0, 0.0, 0.0, 0.0, 0.0, 0.0, 0.0, 0.0, -15.829874653742372, -241.28733658688233, -273.5683717469949, -263.52779117684787, 0.0, 0.0, 0.0, -33.28710000000022, 0.0, 0.0, 0.0, 0.0, 0.0, 0.0, 0.0, 0.0, 0.0, 0.0, 0.0, 0.0, 0.0, 0.0, 0.0, 0.0]\n"
     ]
    }
   ],
   "source": [
    "print(list(X.max()),list(X.min()))"
   ]
  },
  {
   "cell_type": "code",
   "execution_count": 16,
   "metadata": {
    "execution": {
     "iopub.execute_input": "2024-05-28T04:21:33.161385Z",
     "iopub.status.busy": "2024-05-28T04:21:33.161111Z",
     "iopub.status.idle": "2024-05-28T04:21:33.166623Z",
     "shell.execute_reply": "2024-05-28T04:21:33.165749Z",
     "shell.execute_reply.started": "2024-05-28T04:21:33.161358Z"
    },
    "tags": []
   },
   "outputs": [
    {
     "data": {
      "text/plain": [
       "'Ipc'"
      ]
     },
     "execution_count": 16,
     "metadata": {},
     "output_type": "execute_result"
    }
   ],
   "source": [
    "X.columns[10]"
   ]
  },
  {
   "cell_type": "code",
   "execution_count": 17,
   "metadata": {
    "execution": {
     "iopub.execute_input": "2024-05-28T04:21:33.167662Z",
     "iopub.status.busy": "2024-05-28T04:21:33.167403Z",
     "iopub.status.idle": "2024-05-28T04:21:33.228800Z",
     "shell.execute_reply": "2024-05-28T04:21:33.228002Z",
     "shell.execute_reply.started": "2024-05-28T04:21:33.167638Z"
    },
    "tags": []
   },
   "outputs": [
    {
     "name": "stdout",
     "output_type": "stream",
     "text": [
      "1.8921946381658235e+219 12.16479703638053\n"
     ]
    }
   ],
   "source": [
    "print(X['Ipc'].max(),X['Ipc'].min())"
   ]
  },
  {
   "cell_type": "code",
   "execution_count": 18,
   "metadata": {
    "execution": {
     "iopub.execute_input": "2024-05-28T04:21:33.229904Z",
     "iopub.status.busy": "2024-05-28T04:21:33.229644Z",
     "iopub.status.idle": "2024-05-28T04:21:33.290463Z",
     "shell.execute_reply": "2024-05-28T04:21:33.289669Z",
     "shell.execute_reply.started": "2024-05-28T04:21:33.229878Z"
    },
    "tags": []
   },
   "outputs": [],
   "source": [
    "scaler = MinMaxScaler()\n",
    "X['Ipc'] = scaler.fit_transform(X['Ipc'].values.reshape(-1,1))"
   ]
  },
  {
   "cell_type": "code",
   "execution_count": 19,
   "metadata": {
    "execution": {
     "iopub.execute_input": "2024-05-28T04:21:33.291645Z",
     "iopub.status.busy": "2024-05-28T04:21:33.291378Z",
     "iopub.status.idle": "2024-05-28T04:21:33.961065Z",
     "shell.execute_reply": "2024-05-28T04:21:33.960178Z",
     "shell.execute_reply.started": "2024-05-28T04:21:33.291619Z"
    },
    "tags": []
   },
   "outputs": [
    {
     "data": {
      "text/plain": [
       "(379436, 64)"
      ]
     },
     "execution_count": 19,
     "metadata": {},
     "output_type": "execute_result"
    }
   ],
   "source": [
    "scaler=StandardScaler().fit(X)\n",
    "scaled=scaler.transform(X)\n",
    "scaled.shape\n"
   ]
  },
  {
   "cell_type": "code",
   "execution_count": 20,
   "metadata": {
    "execution": {
     "iopub.execute_input": "2024-05-28T04:21:33.962304Z",
     "iopub.status.busy": "2024-05-28T04:21:33.962037Z",
     "iopub.status.idle": "2024-05-28T04:21:34.477282Z",
     "shell.execute_reply": "2024-05-28T04:21:34.476129Z",
     "shell.execute_reply.started": "2024-05-28T04:21:33.962278Z"
    },
    "tags": []
   },
   "outputs": [],
   "source": [
    "df=pd.read_pickle(\"./gap_smile.pkl\")\n",
    "y=df[\"GAP\"].to_numpy() #[0:100001:10]\n",
    "X_train, X_test, y_train, y_test = train_test_split(scaled,y,test_size=0.3,random_state=42)"
   ]
  },
  {
   "cell_type": "code",
   "execution_count": 21,
   "metadata": {
    "execution": {
     "iopub.execute_input": "2024-05-28T04:21:34.478615Z",
     "iopub.status.busy": "2024-05-28T04:21:34.478341Z",
     "iopub.status.idle": "2024-05-28T05:33:28.647315Z",
     "shell.execute_reply": "2024-05-28T05:33:28.645725Z",
     "shell.execute_reply.started": "2024-05-28T04:21:34.478588Z"
    }
   },
   "outputs": [
    {
     "name": "stdout",
     "output_type": "stream",
     "text": [
      "      Iter       Train Loss      OOB Improve   Remaining Time \n",
      "         1           1.5173           0.1335           69.02m\n",
      "         2           1.3889           0.1048           67.72m\n",
      "         3           1.2827           0.1316           69.88m\n",
      "         4           1.1677           0.0289           71.28m\n",
      "         5           1.0880           0.1446           72.18m\n",
      "         6           0.9996           0.0623           72.60m\n",
      "         7           0.9271           0.0824           73.38m\n",
      "         8           0.8605           0.0754           73.09m\n",
      "         9           0.8027           0.0730           73.21m\n",
      "        10           0.7493           0.0608           73.37m\n",
      "        20           0.4126           0.0322           71.86m\n",
      "        30           0.2824           0.0129           69.80m\n",
      "        40           0.2234           0.0042           67.66m\n",
      "        50           0.1934          -0.0005           65.78m\n",
      "        60           0.1766           0.0050           64.23m\n",
      "        70           0.1647           0.0020           62.99m\n",
      "        80           0.1552           0.0008           61.71m\n",
      "        90           0.1476          -0.0017           60.65m\n",
      "       100           0.1418           0.0001           59.59m\n",
      "       200           0.1111           0.0015           50.36m\n",
      "       300           0.0970           0.0006           40.45m\n",
      "       400           0.0873          -0.0014           30.41m\n",
      "       500           0.0810           0.0011           20.23m\n",
      "       600           0.0752           0.0005            9.98m\n",
      "The mean squared error (MSE) on test set: 0.0909\n"
     ]
    }
   ],
   "source": [
    "params={\n",
    "'n_estimators': 697,\n",
    "'max_depth': 7,\n",
    "#'min_child_weight': 16.77400817091533,\n",
    "'learning_rate': 0.05188185851564914,\n",
    "'subsample': 0.8245359940145914,\n",
    "#'min_samples_split': ,\n",
    "#'colsample_bylevel': 0.9810898249078555,\n",
    "#'colsample_bytree': 0.7932926212616472,\n",
    "#'reg_alpha': 0.0418622180567022,\n",
    "#'reg_lambda': 0.033751842716710355\n",
    "'verbose':1,\n",
    "}\n",
    "\n",
    "reg=GradientBoostingRegressor(**params)\n",
    "reg.fit(X_train, y_train)\n",
    "\n",
    "mse = mean_squared_error(y_test, reg.predict(X_test))\n",
    "print(\"The mean squared error (MSE) on test set: {:.4f}\".format(mse))"
   ]
  },
  {
   "cell_type": "code",
   "execution_count": 22,
   "metadata": {
    "execution": {
     "iopub.execute_input": "2024-05-28T05:33:28.649516Z",
     "iopub.status.busy": "2024-05-28T05:33:28.649053Z",
     "iopub.status.idle": "2024-05-28T05:33:28.655549Z",
     "shell.execute_reply": "2024-05-28T05:33:28.654220Z",
     "shell.execute_reply.started": "2024-05-28T05:33:28.649473Z"
    }
   },
   "outputs": [],
   "source": [
    "params_1st_pass=reg.get_params()"
   ]
  },
  {
   "cell_type": "code",
   "execution_count": 23,
   "metadata": {
    "execution": {
     "iopub.execute_input": "2024-05-28T05:33:28.657323Z",
     "iopub.status.busy": "2024-05-28T05:33:28.656912Z",
     "iopub.status.idle": "2024-05-28T05:33:36.429530Z",
     "shell.execute_reply": "2024-05-28T05:33:36.428401Z",
     "shell.execute_reply.started": "2024-05-28T05:33:28.657286Z"
    }
   },
   "outputs": [
    {
     "data": {
      "image/png": "[encoded data removed]",
      "text/plain": [
       "<Figure size 800x400 with 1 Axes>"
      ]
     },
     "metadata": {},
     "output_type": "display_data"
    }
   ],
   "source": [
    "test_score = np.zeros((params[\"n_estimators\"],), dtype=np.float64)\n",
    "for i, y_pred in enumerate(reg.staged_predict(X_test)):\n",
    "    test_score[i] = mean_squared_error(y_test, y_pred)\n",
    "\n",
    "fig = plt.figure(figsize=(8, 4))\n",
    "plt.subplot(1, 1, 1)\n",
    "plt.title(\"Deviance\")\n",
    "plt.plot(\n",
    "    np.arange(params[\"n_estimators\"]) + 1,\n",
    "    reg.train_score_,\n",
    "    \"b-\",\n",
    "    label=\"Training Set Deviance\",\n",
    ")\n",
    "plt.plot(\n",
    "    np.arange(params[\"n_estimators\"]) + 1, test_score, \"r-\", label=\"Test Set Deviance\"\n",
    ")\n",
    "plt.legend(loc=\"upper right\")\n",
    "plt.xlabel(\"Boosting Iterations\")\n",
    "plt.ylabel(\"Deviance\")\n",
    "fig.tight_layout()\n",
    "plt.show()"
   ]
  },
  {
   "cell_type": "markdown",
   "metadata": {
    "tags": []
   },
   "source": [
    "## cross validation"
   ]
  },
  {
   "cell_type": "code",
   "execution_count": 24,
   "metadata": {
    "execution": {
     "iopub.execute_input": "2024-05-28T05:33:36.431230Z",
     "iopub.status.busy": "2024-05-28T05:33:36.430794Z",
     "iopub.status.idle": "2024-05-28T05:33:36.435899Z",
     "shell.execute_reply": "2024-05-28T05:33:36.434841Z",
     "shell.execute_reply.started": "2024-05-28T05:33:36.431198Z"
    }
   },
   "outputs": [],
   "source": [
    "def display_scores(scores):\n",
    "    print(\"Scores: {0}\\nMean: {1:.3f}\\nStd: {2:.3f}\".format(scores, np.mean(scores), np.std(scores)))"
   ]
  },
  {
   "cell_type": "code",
   "execution_count": 25,
   "metadata": {
    "execution": {
     "iopub.execute_input": "2024-05-28T05:33:36.441178Z",
     "iopub.status.busy": "2024-05-28T05:33:36.440767Z",
     "iopub.status.idle": "2024-05-28T05:33:36.527339Z",
     "shell.execute_reply": "2024-05-28T05:33:36.526038Z",
     "shell.execute_reply.started": "2024-05-28T05:33:36.441141Z"
    }
   },
   "outputs": [],
   "source": [
    "kfold = KFold(n_splits=4, shuffle=True, random_state=42)"
   ]
  },
  {
   "cell_type": "code",
   "execution_count": 26,
   "metadata": {
    "execution": {
     "iopub.execute_input": "2024-05-28T05:33:36.528765Z",
     "iopub.status.busy": "2024-05-28T05:33:36.528457Z",
     "iopub.status.idle": "2024-05-28T08:25:02.889456Z",
     "shell.execute_reply": "2024-05-28T08:25:02.887793Z",
     "shell.execute_reply.started": "2024-05-28T05:33:36.528736Z"
    },
    "scrolled": true,
    "tags": []
   },
   "outputs": [
    {
     "name": "stdout",
     "output_type": "stream",
     "text": [
      "(379436, 64) (379436,)\n",
      "284577 [     1      3      4 ... 379431 379432 379434] 94859 [     0      2      7 ... 379422 379433 379435]\n",
      "      Iter       Train Loss      OOB Improve   Remaining Time \n",
      "         1           1.5187           0.1338           75.37m\n",
      "         2           1.3902           0.0986           77.49m\n",
      "         3           1.2775           0.1080           76.79m\n",
      "         4           1.1729           0.0822           75.34m\n",
      "         5           1.0906           0.1259           74.44m\n",
      "         6           1.0048           0.0668           73.70m\n",
      "         7           0.9276           0.0585           73.14m\n",
      "         8           0.8597           0.0708           72.80m\n",
      "         9           0.8028           0.0829           72.46m\n",
      "        10           0.7424           0.0316           72.52m\n",
      "        20           0.4122           0.0208           72.31m\n",
      "        30           0.2801           0.0047           71.13m\n",
      "        40           0.2227           0.0023           69.74m\n",
      "        50           0.1932           0.0020           68.58m\n",
      "        60           0.1757           0.0008           67.54m\n",
      "        70           0.1642           0.0008           66.72m\n",
      "        80           0.1544          -0.0005           65.48m\n",
      "        90           0.1476           0.0003           64.38m\n",
      "       100           0.1427           0.0035           63.63m\n",
      "       200           0.1120           0.0008           53.18m\n",
      "       300           0.0974          -0.0000           42.55m\n",
      "       400           0.0881          -0.0005           31.84m\n",
      "       500           0.0813          -0.0018           21.21m\n",
      "       600           0.0761          -0.0010           10.49m\n",
      "284577 [     0      1      2 ... 379433 379434 379435] 94859 [     4      6     10 ... 379427 379431 379432]\n",
      "      Iter       Train Loss      OOB Improve   Remaining Time \n",
      "         1           1.5044           0.1408           77.34m\n",
      "         2           1.3796           0.1195           75.33m\n",
      "         3           1.2810           0.1688           73.57m\n",
      "         4           1.1813           0.1046           72.73m\n",
      "         5           1.0803           0.0427           72.10m\n",
      "         6           1.0075           0.1280           71.68m\n",
      "         7           0.9296           0.0645           71.42m\n",
      "         8           0.8623           0.0669           71.23m\n",
      "         9           0.7991           0.0439           71.08m\n",
      "        10           0.7438           0.0519           71.02m\n",
      "        20           0.4115           0.0212           70.92m\n",
      "        30           0.2812           0.0047           69.65m\n",
      "        40           0.2232           0.0088           68.60m\n",
      "        50           0.1926           0.0019           67.52m\n",
      "        60           0.1755           0.0037           66.55m\n",
      "        70           0.1627          -0.0007           65.97m\n",
      "        80           0.1541           0.0021           65.14m\n",
      "        90           0.1468          -0.0008           64.33m\n",
      "       100           0.1415          -0.0003           63.35m\n",
      "       200           0.1106          -0.0003           53.39m\n",
      "       300           0.0966          -0.0023           43.19m\n",
      "       400           0.0879          -0.0006           32.31m\n",
      "       500           0.0814          -0.0004           21.53m\n",
      "       600           0.0759          -0.0000           10.60m\n",
      "284577 [     0      2      4 ... 379432 379433 379435] 94859 [     1      3      8 ... 379420 379421 379434]\n",
      "      Iter       Train Loss      OOB Improve   Remaining Time \n",
      "         1           1.5250           0.1358           75.44m\n",
      "         2           1.3858           0.0518           73.84m\n",
      "         3           1.2827           0.1569           74.22m\n",
      "         4           1.1759           0.0771           73.89m\n",
      "         5           1.0907           0.1155           73.25m\n",
      "         6           1.0077           0.0823           72.78m\n",
      "         7           0.9324           0.0704           72.43m\n",
      "         8           0.8637           0.0630           72.40m\n",
      "         9           0.8048           0.0700           72.31m\n",
      "        10           0.7548           0.0870           72.03m\n",
      "        20           0.4122           0.0126           70.46m\n",
      "        30           0.2811           0.0104           69.24m\n",
      "        40           0.2231           0.0070           68.25m\n",
      "        50           0.1932           0.0036           67.16m\n",
      "        60           0.1750           0.0011           66.10m\n",
      "        70           0.1633           0.0002           65.26m\n",
      "        80           0.1544           0.0029           64.30m\n",
      "        90           0.1474           0.0020           63.39m\n",
      "       100           0.1412           0.0008           62.44m\n"
     ]
    },
    {
     "ename": "KeyboardInterrupt",
     "evalue": "",
     "output_type": "error",
     "traceback": [
      "\u001b[0;31m---------------------------------------------------------------------------\u001b[0m",
      "\u001b[0;31mKeyboardInterrupt\u001b[0m                         Traceback (most recent call last)",
      "Cell \u001b[0;32mIn[26], line 10\u001b[0m\n\u001b[1;32m      7\u001b[0m y_train, y_test \u001b[38;5;241m=\u001b[39m y[train_index], y[test_index]\n\u001b[1;32m      9\u001b[0m model \u001b[38;5;241m=\u001b[39m GradientBoostingRegressor(\u001b[38;5;241m*\u001b[39m\u001b[38;5;241m*\u001b[39mparams_1st_pass)\n\u001b[0;32m---> 10\u001b[0m \u001b[43mmodel\u001b[49m\u001b[38;5;241;43m.\u001b[39;49m\u001b[43mfit\u001b[49m\u001b[43m(\u001b[49m\u001b[43mX_train\u001b[49m\u001b[43m,\u001b[49m\u001b[43m \u001b[49m\u001b[43my_train\u001b[49m\u001b[43m)\u001b[49m\n\u001b[1;32m     12\u001b[0m y_pred \u001b[38;5;241m=\u001b[39m model\u001b[38;5;241m.\u001b[39mpredict(X_test)\n\u001b[1;32m     14\u001b[0m scores\u001b[38;5;241m.\u001b[39mappend(mean_squared_error(y_test, y_pred))\n",
      "File \u001b[0;32m~/anaconda3/envs/py312scikitlearn/lib/python3.12/site-packages/sklearn/base.py:1474\u001b[0m, in \u001b[0;36m_fit_context.<locals>.decorator.<locals>.wrapper\u001b[0;34m(estimator, *args, **kwargs)\u001b[0m\n\u001b[1;32m   1467\u001b[0m     estimator\u001b[38;5;241m.\u001b[39m_validate_params()\n\u001b[1;32m   1469\u001b[0m \u001b[38;5;28;01mwith\u001b[39;00m config_context(\n\u001b[1;32m   1470\u001b[0m     skip_parameter_validation\u001b[38;5;241m=\u001b[39m(\n\u001b[1;32m   1471\u001b[0m         prefer_skip_nested_validation \u001b[38;5;129;01mor\u001b[39;00m global_skip_validation\n\u001b[1;32m   1472\u001b[0m     )\n\u001b[1;32m   1473\u001b[0m ):\n\u001b[0;32m-> 1474\u001b[0m     \u001b[38;5;28;01mreturn\u001b[39;00m \u001b[43mfit_method\u001b[49m\u001b[43m(\u001b[49m\u001b[43mestimator\u001b[49m\u001b[43m,\u001b[49m\u001b[43m \u001b[49m\u001b[38;5;241;43m*\u001b[39;49m\u001b[43margs\u001b[49m\u001b[43m,\u001b[49m\u001b[43m \u001b[49m\u001b[38;5;241;43m*\u001b[39;49m\u001b[38;5;241;43m*\u001b[39;49m\u001b[43mkwargs\u001b[49m\u001b[43m)\u001b[49m\n",
      "File \u001b[0;32m~/anaconda3/envs/py312scikitlearn/lib/python3.12/site-packages/sklearn/ensemble/_gb.py:784\u001b[0m, in \u001b[0;36mBaseGradientBoosting.fit\u001b[0;34m(self, X, y, sample_weight, monitor)\u001b[0m\n\u001b[1;32m    781\u001b[0m     \u001b[38;5;28mself\u001b[39m\u001b[38;5;241m.\u001b[39m_resize_state()\n\u001b[1;32m    783\u001b[0m \u001b[38;5;66;03m# fit the boosting stages\u001b[39;00m\n\u001b[0;32m--> 784\u001b[0m n_stages \u001b[38;5;241m=\u001b[39m \u001b[38;5;28;43mself\u001b[39;49m\u001b[38;5;241;43m.\u001b[39;49m\u001b[43m_fit_stages\u001b[49m\u001b[43m(\u001b[49m\n\u001b[1;32m    785\u001b[0m \u001b[43m    \u001b[49m\u001b[43mX_train\u001b[49m\u001b[43m,\u001b[49m\n\u001b[1;32m    786\u001b[0m \u001b[43m    \u001b[49m\u001b[43my_train\u001b[49m\u001b[43m,\u001b[49m\n\u001b[1;32m    787\u001b[0m \u001b[43m    \u001b[49m\u001b[43mraw_predictions\u001b[49m\u001b[43m,\u001b[49m\n\u001b[1;32m    788\u001b[0m \u001b[43m    \u001b[49m\u001b[43msample_weight_train\u001b[49m\u001b[43m,\u001b[49m\n\u001b[1;32m    789\u001b[0m \u001b[43m    \u001b[49m\u001b[38;5;28;43mself\u001b[39;49m\u001b[38;5;241;43m.\u001b[39;49m\u001b[43m_rng\u001b[49m\u001b[43m,\u001b[49m\n\u001b[1;32m    790\u001b[0m \u001b[43m    \u001b[49m\u001b[43mX_val\u001b[49m\u001b[43m,\u001b[49m\n\u001b[1;32m    791\u001b[0m \u001b[43m    \u001b[49m\u001b[43my_val\u001b[49m\u001b[43m,\u001b[49m\n\u001b[1;32m    792\u001b[0m \u001b[43m    \u001b[49m\u001b[43msample_weight_val\u001b[49m\u001b[43m,\u001b[49m\n\u001b[1;32m    793\u001b[0m \u001b[43m    \u001b[49m\u001b[43mbegin_at_stage\u001b[49m\u001b[43m,\u001b[49m\n\u001b[1;32m    794\u001b[0m \u001b[43m    \u001b[49m\u001b[43mmonitor\u001b[49m\u001b[43m,\u001b[49m\n\u001b[1;32m    795\u001b[0m \u001b[43m\u001b[49m\u001b[43m)\u001b[49m\n\u001b[1;32m    797\u001b[0m \u001b[38;5;66;03m# change shape of arrays after fit (early-stopping or additional ests)\u001b[39;00m\n\u001b[1;32m    798\u001b[0m \u001b[38;5;28;01mif\u001b[39;00m n_stages \u001b[38;5;241m!=\u001b[39m \u001b[38;5;28mself\u001b[39m\u001b[38;5;241m.\u001b[39mestimators_\u001b[38;5;241m.\u001b[39mshape[\u001b[38;5;241m0\u001b[39m]:\n",
      "File \u001b[0;32m~/anaconda3/envs/py312scikitlearn/lib/python3.12/site-packages/sklearn/ensemble/_gb.py:880\u001b[0m, in \u001b[0;36mBaseGradientBoosting._fit_stages\u001b[0;34m(self, X, y, raw_predictions, sample_weight, random_state, X_val, y_val, sample_weight_val, begin_at_stage, monitor)\u001b[0m\n\u001b[1;32m    873\u001b[0m         initial_loss \u001b[38;5;241m=\u001b[39m factor \u001b[38;5;241m*\u001b[39m \u001b[38;5;28mself\u001b[39m\u001b[38;5;241m.\u001b[39m_loss(\n\u001b[1;32m    874\u001b[0m             y_true\u001b[38;5;241m=\u001b[39my_oob_masked,\n\u001b[1;32m    875\u001b[0m             raw_prediction\u001b[38;5;241m=\u001b[39mraw_predictions[\u001b[38;5;241m~\u001b[39msample_mask],\n\u001b[1;32m    876\u001b[0m             sample_weight\u001b[38;5;241m=\u001b[39msample_weight_oob_masked,\n\u001b[1;32m    877\u001b[0m         )\n\u001b[1;32m    879\u001b[0m \u001b[38;5;66;03m# fit next stage of trees\u001b[39;00m\n\u001b[0;32m--> 880\u001b[0m raw_predictions \u001b[38;5;241m=\u001b[39m \u001b[38;5;28;43mself\u001b[39;49m\u001b[38;5;241;43m.\u001b[39;49m\u001b[43m_fit_stage\u001b[49m\u001b[43m(\u001b[49m\n\u001b[1;32m    881\u001b[0m \u001b[43m    \u001b[49m\u001b[43mi\u001b[49m\u001b[43m,\u001b[49m\n\u001b[1;32m    882\u001b[0m \u001b[43m    \u001b[49m\u001b[43mX\u001b[49m\u001b[43m,\u001b[49m\n\u001b[1;32m    883\u001b[0m \u001b[43m    \u001b[49m\u001b[43my\u001b[49m\u001b[43m,\u001b[49m\n\u001b[1;32m    884\u001b[0m \u001b[43m    \u001b[49m\u001b[43mraw_predictions\u001b[49m\u001b[43m,\u001b[49m\n\u001b[1;32m    885\u001b[0m \u001b[43m    \u001b[49m\u001b[43msample_weight\u001b[49m\u001b[43m,\u001b[49m\n\u001b[1;32m    886\u001b[0m \u001b[43m    \u001b[49m\u001b[43msample_mask\u001b[49m\u001b[43m,\u001b[49m\n\u001b[1;32m    887\u001b[0m \u001b[43m    \u001b[49m\u001b[43mrandom_state\u001b[49m\u001b[43m,\u001b[49m\n\u001b[1;32m    888\u001b[0m \u001b[43m    \u001b[49m\u001b[43mX_csc\u001b[49m\u001b[38;5;241;43m=\u001b[39;49m\u001b[43mX_csc\u001b[49m\u001b[43m,\u001b[49m\n\u001b[1;32m    889\u001b[0m \u001b[43m    \u001b[49m\u001b[43mX_csr\u001b[49m\u001b[38;5;241;43m=\u001b[39;49m\u001b[43mX_csr\u001b[49m\u001b[43m,\u001b[49m\n\u001b[1;32m    890\u001b[0m \u001b[43m\u001b[49m\u001b[43m)\u001b[49m\n\u001b[1;32m    892\u001b[0m \u001b[38;5;66;03m# track loss\u001b[39;00m\n\u001b[1;32m    893\u001b[0m \u001b[38;5;28;01mif\u001b[39;00m do_oob:\n",
      "File \u001b[0;32m~/anaconda3/envs/py312scikitlearn/lib/python3.12/site-packages/sklearn/ensemble/_gb.py:490\u001b[0m, in \u001b[0;36mBaseGradientBoosting._fit_stage\u001b[0;34m(self, i, X, y, raw_predictions, sample_weight, sample_mask, random_state, X_csc, X_csr)\u001b[0m\n\u001b[1;32m    487\u001b[0m     sample_weight \u001b[38;5;241m=\u001b[39m sample_weight \u001b[38;5;241m*\u001b[39m sample_mask\u001b[38;5;241m.\u001b[39mastype(np\u001b[38;5;241m.\u001b[39mfloat64)\n\u001b[1;32m    489\u001b[0m X \u001b[38;5;241m=\u001b[39m X_csc \u001b[38;5;28;01mif\u001b[39;00m X_csc \u001b[38;5;129;01mis\u001b[39;00m \u001b[38;5;129;01mnot\u001b[39;00m \u001b[38;5;28;01mNone\u001b[39;00m \u001b[38;5;28;01melse\u001b[39;00m X\n\u001b[0;32m--> 490\u001b[0m \u001b[43mtree\u001b[49m\u001b[38;5;241;43m.\u001b[39;49m\u001b[43mfit\u001b[49m\u001b[43m(\u001b[49m\n\u001b[1;32m    491\u001b[0m \u001b[43m    \u001b[49m\u001b[43mX\u001b[49m\u001b[43m,\u001b[49m\u001b[43m \u001b[49m\u001b[43mneg_g_view\u001b[49m\u001b[43m[\u001b[49m\u001b[43m:\u001b[49m\u001b[43m,\u001b[49m\u001b[43m \u001b[49m\u001b[43mk\u001b[49m\u001b[43m]\u001b[49m\u001b[43m,\u001b[49m\u001b[43m \u001b[49m\u001b[43msample_weight\u001b[49m\u001b[38;5;241;43m=\u001b[39;49m\u001b[43msample_weight\u001b[49m\u001b[43m,\u001b[49m\u001b[43m \u001b[49m\u001b[43mcheck_input\u001b[49m\u001b[38;5;241;43m=\u001b[39;49m\u001b[38;5;28;43;01mFalse\u001b[39;49;00m\n\u001b[1;32m    492\u001b[0m \u001b[43m\u001b[49m\u001b[43m)\u001b[49m\n\u001b[1;32m    494\u001b[0m \u001b[38;5;66;03m# update tree leaves\u001b[39;00m\n\u001b[1;32m    495\u001b[0m X_for_tree_update \u001b[38;5;241m=\u001b[39m X_csr \u001b[38;5;28;01mif\u001b[39;00m X_csr \u001b[38;5;129;01mis\u001b[39;00m \u001b[38;5;129;01mnot\u001b[39;00m \u001b[38;5;28;01mNone\u001b[39;00m \u001b[38;5;28;01melse\u001b[39;00m X\n",
      "File \u001b[0;32m~/anaconda3/envs/py312scikitlearn/lib/python3.12/site-packages/sklearn/base.py:1474\u001b[0m, in \u001b[0;36m_fit_context.<locals>.decorator.<locals>.wrapper\u001b[0;34m(estimator, *args, **kwargs)\u001b[0m\n\u001b[1;32m   1467\u001b[0m     estimator\u001b[38;5;241m.\u001b[39m_validate_params()\n\u001b[1;32m   1469\u001b[0m \u001b[38;5;28;01mwith\u001b[39;00m config_context(\n\u001b[1;32m   1470\u001b[0m     skip_parameter_validation\u001b[38;5;241m=\u001b[39m(\n\u001b[1;32m   1471\u001b[0m         prefer_skip_nested_validation \u001b[38;5;129;01mor\u001b[39;00m global_skip_validation\n\u001b[1;32m   1472\u001b[0m     )\n\u001b[1;32m   1473\u001b[0m ):\n\u001b[0;32m-> 1474\u001b[0m     \u001b[38;5;28;01mreturn\u001b[39;00m \u001b[43mfit_method\u001b[49m\u001b[43m(\u001b[49m\u001b[43mestimator\u001b[49m\u001b[43m,\u001b[49m\u001b[43m \u001b[49m\u001b[38;5;241;43m*\u001b[39;49m\u001b[43margs\u001b[49m\u001b[43m,\u001b[49m\u001b[43m \u001b[49m\u001b[38;5;241;43m*\u001b[39;49m\u001b[38;5;241;43m*\u001b[39;49m\u001b[43mkwargs\u001b[49m\u001b[43m)\u001b[49m\n",
      "File \u001b[0;32m~/anaconda3/envs/py312scikitlearn/lib/python3.12/site-packages/sklearn/tree/_classes.py:1377\u001b[0m, in \u001b[0;36mDecisionTreeRegressor.fit\u001b[0;34m(self, X, y, sample_weight, check_input)\u001b[0m\n\u001b[1;32m   1347\u001b[0m \u001b[38;5;129m@_fit_context\u001b[39m(prefer_skip_nested_validation\u001b[38;5;241m=\u001b[39m\u001b[38;5;28;01mTrue\u001b[39;00m)\n\u001b[1;32m   1348\u001b[0m \u001b[38;5;28;01mdef\u001b[39;00m \u001b[38;5;21mfit\u001b[39m(\u001b[38;5;28mself\u001b[39m, X, y, sample_weight\u001b[38;5;241m=\u001b[39m\u001b[38;5;28;01mNone\u001b[39;00m, check_input\u001b[38;5;241m=\u001b[39m\u001b[38;5;28;01mTrue\u001b[39;00m):\n\u001b[1;32m   1349\u001b[0m \u001b[38;5;250m    \u001b[39m\u001b[38;5;124;03m\"\"\"Build a decision tree regressor from the training set (X, y).\u001b[39;00m\n\u001b[1;32m   1350\u001b[0m \n\u001b[1;32m   1351\u001b[0m \u001b[38;5;124;03m    Parameters\u001b[39;00m\n\u001b[0;32m   (...)\u001b[0m\n\u001b[1;32m   1374\u001b[0m \u001b[38;5;124;03m        Fitted estimator.\u001b[39;00m\n\u001b[1;32m   1375\u001b[0m \u001b[38;5;124;03m    \"\"\"\u001b[39;00m\n\u001b[0;32m-> 1377\u001b[0m     \u001b[38;5;28;43msuper\u001b[39;49m\u001b[43m(\u001b[49m\u001b[43m)\u001b[49m\u001b[38;5;241;43m.\u001b[39;49m\u001b[43m_fit\u001b[49m\u001b[43m(\u001b[49m\n\u001b[1;32m   1378\u001b[0m \u001b[43m        \u001b[49m\u001b[43mX\u001b[49m\u001b[43m,\u001b[49m\n\u001b[1;32m   1379\u001b[0m \u001b[43m        \u001b[49m\u001b[43my\u001b[49m\u001b[43m,\u001b[49m\n\u001b[1;32m   1380\u001b[0m \u001b[43m        \u001b[49m\u001b[43msample_weight\u001b[49m\u001b[38;5;241;43m=\u001b[39;49m\u001b[43msample_weight\u001b[49m\u001b[43m,\u001b[49m\n\u001b[1;32m   1381\u001b[0m \u001b[43m        \u001b[49m\u001b[43mcheck_input\u001b[49m\u001b[38;5;241;43m=\u001b[39;49m\u001b[43mcheck_input\u001b[49m\u001b[43m,\u001b[49m\n\u001b[1;32m   1382\u001b[0m \u001b[43m    \u001b[49m\u001b[43m)\u001b[49m\n\u001b[1;32m   1383\u001b[0m     \u001b[38;5;28;01mreturn\u001b[39;00m \u001b[38;5;28mself\u001b[39m\n",
      "File \u001b[0;32m~/anaconda3/envs/py312scikitlearn/lib/python3.12/site-packages/sklearn/tree/_classes.py:472\u001b[0m, in \u001b[0;36mBaseDecisionTree._fit\u001b[0;34m(self, X, y, sample_weight, check_input, missing_values_in_feature_mask)\u001b[0m\n\u001b[1;32m    461\u001b[0m \u001b[38;5;28;01melse\u001b[39;00m:\n\u001b[1;32m    462\u001b[0m     builder \u001b[38;5;241m=\u001b[39m BestFirstTreeBuilder(\n\u001b[1;32m    463\u001b[0m         splitter,\n\u001b[1;32m    464\u001b[0m         min_samples_split,\n\u001b[0;32m   (...)\u001b[0m\n\u001b[1;32m    469\u001b[0m         \u001b[38;5;28mself\u001b[39m\u001b[38;5;241m.\u001b[39mmin_impurity_decrease,\n\u001b[1;32m    470\u001b[0m     )\n\u001b[0;32m--> 472\u001b[0m \u001b[43mbuilder\u001b[49m\u001b[38;5;241;43m.\u001b[39;49m\u001b[43mbuild\u001b[49m\u001b[43m(\u001b[49m\u001b[38;5;28;43mself\u001b[39;49m\u001b[38;5;241;43m.\u001b[39;49m\u001b[43mtree_\u001b[49m\u001b[43m,\u001b[49m\u001b[43m \u001b[49m\u001b[43mX\u001b[49m\u001b[43m,\u001b[49m\u001b[43m \u001b[49m\u001b[43my\u001b[49m\u001b[43m,\u001b[49m\u001b[43m \u001b[49m\u001b[43msample_weight\u001b[49m\u001b[43m,\u001b[49m\u001b[43m \u001b[49m\u001b[43mmissing_values_in_feature_mask\u001b[49m\u001b[43m)\u001b[49m\n\u001b[1;32m    474\u001b[0m \u001b[38;5;28;01mif\u001b[39;00m \u001b[38;5;28mself\u001b[39m\u001b[38;5;241m.\u001b[39mn_outputs_ \u001b[38;5;241m==\u001b[39m \u001b[38;5;241m1\u001b[39m \u001b[38;5;129;01mand\u001b[39;00m is_classifier(\u001b[38;5;28mself\u001b[39m):\n\u001b[1;32m    475\u001b[0m     \u001b[38;5;28mself\u001b[39m\u001b[38;5;241m.\u001b[39mn_classes_ \u001b[38;5;241m=\u001b[39m \u001b[38;5;28mself\u001b[39m\u001b[38;5;241m.\u001b[39mn_classes_[\u001b[38;5;241m0\u001b[39m]\n",
      "\u001b[0;31mKeyboardInterrupt\u001b[0m: "
     ]
    }
   ],
   "source": [
    "#%%timeit -n 1 -r 1\n",
    "scores = []\n",
    "print(X.shape,y.shape)\n",
    "for train_index, test_index in kfold.split(X=scaled,y=y):\n",
    "    print(len(train_index),train_index,len(test_index),test_index)   \n",
    "    X_train, X_test = scaled[train_index], scaled[test_index]\n",
    "    y_train, y_test = y[train_index], y[test_index]\n",
    "\n",
    "    model = GradientBoostingRegressor(**params_1st_pass)\n",
    "    model.fit(X_train, y_train)\n",
    "    \n",
    "    y_pred = model.predict(X_test)\n",
    "    \n",
    "    scores.append(mean_squared_error(y_test, y_pred))\n",
    "    \n",
    "display_scores(np.sqrt(scores))"
   ]
  },
  {
   "cell_type": "code",
   "execution_count": null,
   "metadata": {
    "execution": {
     "iopub.status.busy": "2024-05-28T08:25:02.890383Z",
     "iopub.status.idle": "2024-05-28T08:25:02.890773Z",
     "shell.execute_reply": "2024-05-28T08:25:02.890592Z",
     "shell.execute_reply.started": "2024-05-28T08:25:02.890575Z"
    }
   },
   "outputs": [],
   "source": [
    "display_scores(np.sqrt(scores))"
   ]
  },
  {
   "cell_type": "markdown",
   "metadata": {},
   "source": [
    "## parameter tuning"
   ]
  },
  {
   "cell_type": "code",
   "execution_count": 27,
   "metadata": {
    "execution": {
     "iopub.execute_input": "2024-05-28T08:25:11.815156Z",
     "iopub.status.busy": "2024-05-28T08:25:11.814588Z",
     "iopub.status.idle": "2024-05-28T08:25:12.265697Z",
     "shell.execute_reply": "2024-05-28T08:25:12.264547Z",
     "shell.execute_reply.started": "2024-05-28T08:25:11.815114Z"
    },
    "tags": []
   },
   "outputs": [],
   "source": [
    "X_train, X_test, y_train, y_test = train_test_split(scaled,y,test_size=0.3,random_state=42)"
   ]
  },
  {
   "cell_type": "code",
   "execution_count": 28,
   "metadata": {
    "execution": {
     "iopub.execute_input": "2024-05-28T08:48:12.765590Z",
     "iopub.status.busy": "2024-05-28T08:48:12.765115Z",
     "iopub.status.idle": "2024-05-28T08:48:29.675263Z",
     "shell.execute_reply": "2024-05-28T08:48:29.673492Z",
     "shell.execute_reply.started": "2024-05-28T08:48:12.765550Z"
    },
    "scrolled": true,
    "tags": []
   },
   "outputs": [
    {
     "name": "stdout",
     "output_type": "stream",
     "text": [
      "Fitting 3 folds for each of 100 candidates, totalling 300 fits\n"
     ]
    },
    {
     "name": "stderr",
     "output_type": "stream",
     "text": [
      "/home/sat/anaconda3/envs/py312scikitlearn/lib/python3.12/site-packages/joblib/externals/loky/backend/fork_exec.py:38: DeprecationWarning: This process (pid=31540) is multi-threaded, use of fork() may lead to deadlocks in the child.\n",
      "  pid = os.fork()\n",
      "/home/sat/anaconda3/envs/py312scikitlearn/lib/python3.12/site-packages/joblib/_utils.py:38: DeprecationWarning: ast.Num is deprecated and will be removed in Python 3.14; use ast.Constant instead\n",
      "  if isinstance(node, ast.Num):  # <number>\n",
      "/home/sat/anaconda3/envs/py312scikitlearn/lib/python3.12/site-packages/joblib/_utils.py:39: DeprecationWarning: Attribute n is deprecated and will be removed in Python 3.14; use value instead\n",
      "  return node.n\n"
     ]
    },
    {
     "ename": "KeyboardInterrupt",
     "evalue": "",
     "output_type": "error",
     "traceback": [
      "\u001b[0;31m---------------------------------------------------------------------------\u001b[0m",
      "\u001b[0;31mKeyboardInterrupt\u001b[0m                         Traceback (most recent call last)",
      "Cell \u001b[0;32mIn[28], line 30\u001b[0m\n\u001b[1;32m     28\u001b[0m model\u001b[38;5;241m=\u001b[39mGradientBoostingRegressor()\n\u001b[1;32m     29\u001b[0m search\u001b[38;5;241m=\u001b[39mRandomizedSearchCV(model,param_distributions\u001b[38;5;241m=\u001b[39mparams,random_state\u001b[38;5;241m=\u001b[39m\u001b[38;5;241m42\u001b[39m,n_iter\u001b[38;5;241m=\u001b[39m\u001b[38;5;241m100\u001b[39m,cv\u001b[38;5;241m=\u001b[39m\u001b[38;5;241m3\u001b[39m,n_jobs\u001b[38;5;241m=\u001b[39m\u001b[38;5;241m12\u001b[39m, verbose\u001b[38;5;241m=\u001b[39m\u001b[38;5;241m4\u001b[39m,return_train_score\u001b[38;5;241m=\u001b[39m\u001b[38;5;28;01mTrue\u001b[39;00m)\n\u001b[0;32m---> 30\u001b[0m \u001b[43msearch\u001b[49m\u001b[38;5;241;43m.\u001b[39;49m\u001b[43mfit\u001b[49m\u001b[43m(\u001b[49m\u001b[43mX_train\u001b[49m\u001b[43m,\u001b[49m\u001b[43m \u001b[49m\u001b[43my_train\u001b[49m\u001b[43m)\u001b[49m\n\u001b[1;32m     31\u001b[0m \u001b[38;5;66;03m#n_iter=100 >>> 9m 43s\u001b[39;00m\n\u001b[1;32m     32\u001b[0m \u001b[38;5;66;03m#14.00 - 14.40 for niter=10,cv=3\u001b[39;00m\n\u001b[1;32m     33\u001b[0m \u001b[38;5;66;03m#16.00 - 17.10 niter=20\u001b[39;00m\n\u001b[1;32m     34\u001b[0m \u001b[38;5;66;03m#18.15 - 20.20 niter=100\u001b[39;00m\n",
      "File \u001b[0;32m~/anaconda3/envs/py312scikitlearn/lib/python3.12/site-packages/sklearn/base.py:1474\u001b[0m, in \u001b[0;36m_fit_context.<locals>.decorator.<locals>.wrapper\u001b[0;34m(estimator, *args, **kwargs)\u001b[0m\n\u001b[1;32m   1467\u001b[0m     estimator\u001b[38;5;241m.\u001b[39m_validate_params()\n\u001b[1;32m   1469\u001b[0m \u001b[38;5;28;01mwith\u001b[39;00m config_context(\n\u001b[1;32m   1470\u001b[0m     skip_parameter_validation\u001b[38;5;241m=\u001b[39m(\n\u001b[1;32m   1471\u001b[0m         prefer_skip_nested_validation \u001b[38;5;129;01mor\u001b[39;00m global_skip_validation\n\u001b[1;32m   1472\u001b[0m     )\n\u001b[1;32m   1473\u001b[0m ):\n\u001b[0;32m-> 1474\u001b[0m     \u001b[38;5;28;01mreturn\u001b[39;00m \u001b[43mfit_method\u001b[49m\u001b[43m(\u001b[49m\u001b[43mestimator\u001b[49m\u001b[43m,\u001b[49m\u001b[43m \u001b[49m\u001b[38;5;241;43m*\u001b[39;49m\u001b[43margs\u001b[49m\u001b[43m,\u001b[49m\u001b[43m \u001b[49m\u001b[38;5;241;43m*\u001b[39;49m\u001b[38;5;241;43m*\u001b[39;49m\u001b[43mkwargs\u001b[49m\u001b[43m)\u001b[49m\n",
      "File \u001b[0;32m~/anaconda3/envs/py312scikitlearn/lib/python3.12/site-packages/sklearn/model_selection/_search.py:970\u001b[0m, in \u001b[0;36mBaseSearchCV.fit\u001b[0;34m(self, X, y, **params)\u001b[0m\n\u001b[1;32m    964\u001b[0m     results \u001b[38;5;241m=\u001b[39m \u001b[38;5;28mself\u001b[39m\u001b[38;5;241m.\u001b[39m_format_results(\n\u001b[1;32m    965\u001b[0m         all_candidate_params, n_splits, all_out, all_more_results\n\u001b[1;32m    966\u001b[0m     )\n\u001b[1;32m    968\u001b[0m     \u001b[38;5;28;01mreturn\u001b[39;00m results\n\u001b[0;32m--> 970\u001b[0m \u001b[38;5;28;43mself\u001b[39;49m\u001b[38;5;241;43m.\u001b[39;49m\u001b[43m_run_search\u001b[49m\u001b[43m(\u001b[49m\u001b[43mevaluate_candidates\u001b[49m\u001b[43m)\u001b[49m\n\u001b[1;32m    972\u001b[0m \u001b[38;5;66;03m# multimetric is determined here because in the case of a callable\u001b[39;00m\n\u001b[1;32m    973\u001b[0m \u001b[38;5;66;03m# self.scoring the return type is only known after calling\u001b[39;00m\n\u001b[1;32m    974\u001b[0m first_test_score \u001b[38;5;241m=\u001b[39m all_out[\u001b[38;5;241m0\u001b[39m][\u001b[38;5;124m\"\u001b[39m\u001b[38;5;124mtest_scores\u001b[39m\u001b[38;5;124m\"\u001b[39m]\n",
      "File \u001b[0;32m~/anaconda3/envs/py312scikitlearn/lib/python3.12/site-packages/sklearn/model_selection/_search.py:1914\u001b[0m, in \u001b[0;36mRandomizedSearchCV._run_search\u001b[0;34m(self, evaluate_candidates)\u001b[0m\n\u001b[1;32m   1912\u001b[0m \u001b[38;5;28;01mdef\u001b[39;00m \u001b[38;5;21m_run_search\u001b[39m(\u001b[38;5;28mself\u001b[39m, evaluate_candidates):\n\u001b[1;32m   1913\u001b[0m \u001b[38;5;250m    \u001b[39m\u001b[38;5;124;03m\"\"\"Search n_iter candidates from param_distributions\"\"\"\u001b[39;00m\n\u001b[0;32m-> 1914\u001b[0m     \u001b[43mevaluate_candidates\u001b[49m\u001b[43m(\u001b[49m\n\u001b[1;32m   1915\u001b[0m \u001b[43m        \u001b[49m\u001b[43mParameterSampler\u001b[49m\u001b[43m(\u001b[49m\n\u001b[1;32m   1916\u001b[0m \u001b[43m            \u001b[49m\u001b[38;5;28;43mself\u001b[39;49m\u001b[38;5;241;43m.\u001b[39;49m\u001b[43mparam_distributions\u001b[49m\u001b[43m,\u001b[49m\u001b[43m \u001b[49m\u001b[38;5;28;43mself\u001b[39;49m\u001b[38;5;241;43m.\u001b[39;49m\u001b[43mn_iter\u001b[49m\u001b[43m,\u001b[49m\u001b[43m \u001b[49m\u001b[43mrandom_state\u001b[49m\u001b[38;5;241;43m=\u001b[39;49m\u001b[38;5;28;43mself\u001b[39;49m\u001b[38;5;241;43m.\u001b[39;49m\u001b[43mrandom_state\u001b[49m\n\u001b[1;32m   1917\u001b[0m \u001b[43m        \u001b[49m\u001b[43m)\u001b[49m\n\u001b[1;32m   1918\u001b[0m \u001b[43m    \u001b[49m\u001b[43m)\u001b[49m\n",
      "File \u001b[0;32m~/anaconda3/envs/py312scikitlearn/lib/python3.12/site-packages/sklearn/model_selection/_search.py:916\u001b[0m, in \u001b[0;36mBaseSearchCV.fit.<locals>.evaluate_candidates\u001b[0;34m(candidate_params, cv, more_results)\u001b[0m\n\u001b[1;32m    908\u001b[0m \u001b[38;5;28;01mif\u001b[39;00m \u001b[38;5;28mself\u001b[39m\u001b[38;5;241m.\u001b[39mverbose \u001b[38;5;241m>\u001b[39m \u001b[38;5;241m0\u001b[39m:\n\u001b[1;32m    909\u001b[0m     \u001b[38;5;28mprint\u001b[39m(\n\u001b[1;32m    910\u001b[0m         \u001b[38;5;124m\"\u001b[39m\u001b[38;5;124mFitting \u001b[39m\u001b[38;5;132;01m{0}\u001b[39;00m\u001b[38;5;124m folds for each of \u001b[39m\u001b[38;5;132;01m{1}\u001b[39;00m\u001b[38;5;124m candidates,\u001b[39m\u001b[38;5;124m\"\u001b[39m\n\u001b[1;32m    911\u001b[0m         \u001b[38;5;124m\"\u001b[39m\u001b[38;5;124m totalling \u001b[39m\u001b[38;5;132;01m{2}\u001b[39;00m\u001b[38;5;124m fits\u001b[39m\u001b[38;5;124m\"\u001b[39m\u001b[38;5;241m.\u001b[39mformat(\n\u001b[1;32m    912\u001b[0m             n_splits, n_candidates, n_candidates \u001b[38;5;241m*\u001b[39m n_splits\n\u001b[1;32m    913\u001b[0m         )\n\u001b[1;32m    914\u001b[0m     )\n\u001b[0;32m--> 916\u001b[0m out \u001b[38;5;241m=\u001b[39m \u001b[43mparallel\u001b[49m\u001b[43m(\u001b[49m\n\u001b[1;32m    917\u001b[0m \u001b[43m    \u001b[49m\u001b[43mdelayed\u001b[49m\u001b[43m(\u001b[49m\u001b[43m_fit_and_score\u001b[49m\u001b[43m)\u001b[49m\u001b[43m(\u001b[49m\n\u001b[1;32m    918\u001b[0m \u001b[43m        \u001b[49m\u001b[43mclone\u001b[49m\u001b[43m(\u001b[49m\u001b[43mbase_estimator\u001b[49m\u001b[43m)\u001b[49m\u001b[43m,\u001b[49m\n\u001b[1;32m    919\u001b[0m \u001b[43m        \u001b[49m\u001b[43mX\u001b[49m\u001b[43m,\u001b[49m\n\u001b[1;32m    920\u001b[0m \u001b[43m        \u001b[49m\u001b[43my\u001b[49m\u001b[43m,\u001b[49m\n\u001b[1;32m    921\u001b[0m \u001b[43m        \u001b[49m\u001b[43mtrain\u001b[49m\u001b[38;5;241;43m=\u001b[39;49m\u001b[43mtrain\u001b[49m\u001b[43m,\u001b[49m\n\u001b[1;32m    922\u001b[0m \u001b[43m        \u001b[49m\u001b[43mtest\u001b[49m\u001b[38;5;241;43m=\u001b[39;49m\u001b[43mtest\u001b[49m\u001b[43m,\u001b[49m\n\u001b[1;32m    923\u001b[0m \u001b[43m        \u001b[49m\u001b[43mparameters\u001b[49m\u001b[38;5;241;43m=\u001b[39;49m\u001b[43mparameters\u001b[49m\u001b[43m,\u001b[49m\n\u001b[1;32m    924\u001b[0m \u001b[43m        \u001b[49m\u001b[43msplit_progress\u001b[49m\u001b[38;5;241;43m=\u001b[39;49m\u001b[43m(\u001b[49m\u001b[43msplit_idx\u001b[49m\u001b[43m,\u001b[49m\u001b[43m \u001b[49m\u001b[43mn_splits\u001b[49m\u001b[43m)\u001b[49m\u001b[43m,\u001b[49m\n\u001b[1;32m    925\u001b[0m \u001b[43m        \u001b[49m\u001b[43mcandidate_progress\u001b[49m\u001b[38;5;241;43m=\u001b[39;49m\u001b[43m(\u001b[49m\u001b[43mcand_idx\u001b[49m\u001b[43m,\u001b[49m\u001b[43m \u001b[49m\u001b[43mn_candidates\u001b[49m\u001b[43m)\u001b[49m\u001b[43m,\u001b[49m\n\u001b[1;32m    926\u001b[0m \u001b[43m        \u001b[49m\u001b[38;5;241;43m*\u001b[39;49m\u001b[38;5;241;43m*\u001b[39;49m\u001b[43mfit_and_score_kwargs\u001b[49m\u001b[43m,\u001b[49m\n\u001b[1;32m    927\u001b[0m \u001b[43m    \u001b[49m\u001b[43m)\u001b[49m\n\u001b[1;32m    928\u001b[0m \u001b[43m    \u001b[49m\u001b[38;5;28;43;01mfor\u001b[39;49;00m\u001b[43m \u001b[49m\u001b[43m(\u001b[49m\u001b[43mcand_idx\u001b[49m\u001b[43m,\u001b[49m\u001b[43m \u001b[49m\u001b[43mparameters\u001b[49m\u001b[43m)\u001b[49m\u001b[43m,\u001b[49m\u001b[43m \u001b[49m\u001b[43m(\u001b[49m\u001b[43msplit_idx\u001b[49m\u001b[43m,\u001b[49m\u001b[43m \u001b[49m\u001b[43m(\u001b[49m\u001b[43mtrain\u001b[49m\u001b[43m,\u001b[49m\u001b[43m \u001b[49m\u001b[43mtest\u001b[49m\u001b[43m)\u001b[49m\u001b[43m)\u001b[49m\u001b[43m \u001b[49m\u001b[38;5;129;43;01min\u001b[39;49;00m\u001b[43m \u001b[49m\u001b[43mproduct\u001b[49m\u001b[43m(\u001b[49m\n\u001b[1;32m    929\u001b[0m \u001b[43m        \u001b[49m\u001b[38;5;28;43menumerate\u001b[39;49m\u001b[43m(\u001b[49m\u001b[43mcandidate_params\u001b[49m\u001b[43m)\u001b[49m\u001b[43m,\u001b[49m\n\u001b[1;32m    930\u001b[0m \u001b[43m        \u001b[49m\u001b[38;5;28;43menumerate\u001b[39;49m\u001b[43m(\u001b[49m\u001b[43mcv\u001b[49m\u001b[38;5;241;43m.\u001b[39;49m\u001b[43msplit\u001b[49m\u001b[43m(\u001b[49m\u001b[43mX\u001b[49m\u001b[43m,\u001b[49m\u001b[43m \u001b[49m\u001b[43my\u001b[49m\u001b[43m,\u001b[49m\u001b[43m \u001b[49m\u001b[38;5;241;43m*\u001b[39;49m\u001b[38;5;241;43m*\u001b[39;49m\u001b[43mrouted_params\u001b[49m\u001b[38;5;241;43m.\u001b[39;49m\u001b[43msplitter\u001b[49m\u001b[38;5;241;43m.\u001b[39;49m\u001b[43msplit\u001b[49m\u001b[43m)\u001b[49m\u001b[43m)\u001b[49m\u001b[43m,\u001b[49m\n\u001b[1;32m    931\u001b[0m \u001b[43m    \u001b[49m\u001b[43m)\u001b[49m\n\u001b[1;32m    932\u001b[0m \u001b[43m\u001b[49m\u001b[43m)\u001b[49m\n\u001b[1;32m    934\u001b[0m \u001b[38;5;28;01mif\u001b[39;00m \u001b[38;5;28mlen\u001b[39m(out) \u001b[38;5;241m<\u001b[39m \u001b[38;5;241m1\u001b[39m:\n\u001b[1;32m    935\u001b[0m     \u001b[38;5;28;01mraise\u001b[39;00m \u001b[38;5;167;01mValueError\u001b[39;00m(\n\u001b[1;32m    936\u001b[0m         \u001b[38;5;124m\"\u001b[39m\u001b[38;5;124mNo fits were performed. \u001b[39m\u001b[38;5;124m\"\u001b[39m\n\u001b[1;32m    937\u001b[0m         \u001b[38;5;124m\"\u001b[39m\u001b[38;5;124mWas the CV iterator empty? \u001b[39m\u001b[38;5;124m\"\u001b[39m\n\u001b[1;32m    938\u001b[0m         \u001b[38;5;124m\"\u001b[39m\u001b[38;5;124mWere there no candidates?\u001b[39m\u001b[38;5;124m\"\u001b[39m\n\u001b[1;32m    939\u001b[0m     )\n",
      "File \u001b[0;32m~/anaconda3/envs/py312scikitlearn/lib/python3.12/site-packages/sklearn/utils/parallel.py:67\u001b[0m, in \u001b[0;36mParallel.__call__\u001b[0;34m(self, iterable)\u001b[0m\n\u001b[1;32m     62\u001b[0m config \u001b[38;5;241m=\u001b[39m get_config()\n\u001b[1;32m     63\u001b[0m iterable_with_config \u001b[38;5;241m=\u001b[39m (\n\u001b[1;32m     64\u001b[0m     (_with_config(delayed_func, config), args, kwargs)\n\u001b[1;32m     65\u001b[0m     \u001b[38;5;28;01mfor\u001b[39;00m delayed_func, args, kwargs \u001b[38;5;129;01min\u001b[39;00m iterable\n\u001b[1;32m     66\u001b[0m )\n\u001b[0;32m---> 67\u001b[0m \u001b[38;5;28;01mreturn\u001b[39;00m \u001b[38;5;28;43msuper\u001b[39;49m\u001b[43m(\u001b[49m\u001b[43m)\u001b[49m\u001b[38;5;241;43m.\u001b[39;49m\u001b[38;5;21;43m__call__\u001b[39;49m\u001b[43m(\u001b[49m\u001b[43miterable_with_config\u001b[49m\u001b[43m)\u001b[49m\n",
      "File \u001b[0;32m~/anaconda3/envs/py312scikitlearn/lib/python3.12/site-packages/joblib/parallel.py:1952\u001b[0m, in \u001b[0;36mParallel.__call__\u001b[0;34m(self, iterable)\u001b[0m\n\u001b[1;32m   1946\u001b[0m \u001b[38;5;66;03m# The first item from the output is blank, but it makes the interpreter\u001b[39;00m\n\u001b[1;32m   1947\u001b[0m \u001b[38;5;66;03m# progress until it enters the Try/Except block of the generator and\u001b[39;00m\n\u001b[1;32m   1948\u001b[0m \u001b[38;5;66;03m# reach the first `yield` statement. This starts the aynchronous\u001b[39;00m\n\u001b[1;32m   1949\u001b[0m \u001b[38;5;66;03m# dispatch of the tasks to the workers.\u001b[39;00m\n\u001b[1;32m   1950\u001b[0m \u001b[38;5;28mnext\u001b[39m(output)\n\u001b[0;32m-> 1952\u001b[0m \u001b[38;5;28;01mreturn\u001b[39;00m output \u001b[38;5;28;01mif\u001b[39;00m \u001b[38;5;28mself\u001b[39m\u001b[38;5;241m.\u001b[39mreturn_generator \u001b[38;5;28;01melse\u001b[39;00m \u001b[38;5;28;43mlist\u001b[39;49m\u001b[43m(\u001b[49m\u001b[43moutput\u001b[49m\u001b[43m)\u001b[49m\n",
      "File \u001b[0;32m~/anaconda3/envs/py312scikitlearn/lib/python3.12/site-packages/joblib/parallel.py:1595\u001b[0m, in \u001b[0;36mParallel._get_outputs\u001b[0;34m(self, iterator, pre_dispatch)\u001b[0m\n\u001b[1;32m   1592\u001b[0m     \u001b[38;5;28;01myield\u001b[39;00m\n\u001b[1;32m   1594\u001b[0m     \u001b[38;5;28;01mwith\u001b[39;00m \u001b[38;5;28mself\u001b[39m\u001b[38;5;241m.\u001b[39m_backend\u001b[38;5;241m.\u001b[39mretrieval_context():\n\u001b[0;32m-> 1595\u001b[0m         \u001b[38;5;28;01myield from\u001b[39;00m \u001b[38;5;28mself\u001b[39m\u001b[38;5;241m.\u001b[39m_retrieve()\n\u001b[1;32m   1597\u001b[0m \u001b[38;5;28;01mexcept\u001b[39;00m \u001b[38;5;167;01mGeneratorExit\u001b[39;00m:\n\u001b[1;32m   1598\u001b[0m     \u001b[38;5;66;03m# The generator has been garbage collected before being fully\u001b[39;00m\n\u001b[1;32m   1599\u001b[0m     \u001b[38;5;66;03m# consumed. This aborts the remaining tasks if possible and warn\u001b[39;00m\n\u001b[1;32m   1600\u001b[0m     \u001b[38;5;66;03m# the user if necessary.\u001b[39;00m\n\u001b[1;32m   1601\u001b[0m     \u001b[38;5;28mself\u001b[39m\u001b[38;5;241m.\u001b[39m_exception \u001b[38;5;241m=\u001b[39m \u001b[38;5;28;01mTrue\u001b[39;00m\n",
      "File \u001b[0;32m~/anaconda3/envs/py312scikitlearn/lib/python3.12/site-packages/joblib/parallel.py:1707\u001b[0m, in \u001b[0;36mParallel._retrieve\u001b[0;34m(self)\u001b[0m\n\u001b[1;32m   1702\u001b[0m \u001b[38;5;66;03m# If the next job is not ready for retrieval yet, we just wait for\u001b[39;00m\n\u001b[1;32m   1703\u001b[0m \u001b[38;5;66;03m# async callbacks to progress.\u001b[39;00m\n\u001b[1;32m   1704\u001b[0m \u001b[38;5;28;01mif\u001b[39;00m ((\u001b[38;5;28mlen\u001b[39m(\u001b[38;5;28mself\u001b[39m\u001b[38;5;241m.\u001b[39m_jobs) \u001b[38;5;241m==\u001b[39m \u001b[38;5;241m0\u001b[39m) \u001b[38;5;129;01mor\u001b[39;00m\n\u001b[1;32m   1705\u001b[0m     (\u001b[38;5;28mself\u001b[39m\u001b[38;5;241m.\u001b[39m_jobs[\u001b[38;5;241m0\u001b[39m]\u001b[38;5;241m.\u001b[39mget_status(\n\u001b[1;32m   1706\u001b[0m         timeout\u001b[38;5;241m=\u001b[39m\u001b[38;5;28mself\u001b[39m\u001b[38;5;241m.\u001b[39mtimeout) \u001b[38;5;241m==\u001b[39m TASK_PENDING)):\n\u001b[0;32m-> 1707\u001b[0m     \u001b[43mtime\u001b[49m\u001b[38;5;241;43m.\u001b[39;49m\u001b[43msleep\u001b[49m\u001b[43m(\u001b[49m\u001b[38;5;241;43m0.01\u001b[39;49m\u001b[43m)\u001b[49m\n\u001b[1;32m   1708\u001b[0m     \u001b[38;5;28;01mcontinue\u001b[39;00m\n\u001b[1;32m   1710\u001b[0m \u001b[38;5;66;03m# We need to be careful: the job list can be filling up as\u001b[39;00m\n\u001b[1;32m   1711\u001b[0m \u001b[38;5;66;03m# we empty it and Python list are not thread-safe by\u001b[39;00m\n\u001b[1;32m   1712\u001b[0m \u001b[38;5;66;03m# default hence the use of the lock\u001b[39;00m\n",
      "\u001b[0;31mKeyboardInterrupt\u001b[0m: "
     ]
    }
   ],
   "source": [
    "#%%timeit -n 1 -r 1\n",
    "params={\n",
    "#'alpha': uniform(0.5,0.5),\n",
    "'learning_rate': uniform(0.005,0.045),\n",
    "'loss': ['squared_error','absolute_error'],\n",
    "'max_depth': randint(4,10),\n",
    "'n_estimators': randint(500,1100),\n",
    "'subsample': uniform(0.1,0.5),\n",
    "'validation_fraction': uniform(0.1,0.4),\n",
    "}\n",
    "#'criterion': 'friedman_mse',\n",
    "#'ccp_alpha': 0.0,\n",
    "#'init': None,\n",
    "#'max_features': None,\n",
    "#'max_leaf_nodes': None,\n",
    "#'min_impurity_decrease': 0.0,\n",
    "#'min_samples_leaf': 1,\n",
    "#'min_samples_split': 2,\n",
    "#X_train, X_test, y_train, y_test = train_test_split(scaled,y,test_size=0.3,random_state=42)\n",
    "#'n_iter_no_change': None,\n",
    "#'random_state': None,\n",
    "#'min_weight_fraction_leaf': 0.0,\n",
    "#'tol': 0.001,\n",
    "#'validation_fraction': 0.3333333,\n",
    "#'verbose': 0,\n",
    "#'warm_start': False\n",
    "\n",
    "model=GradientBoostingRegressor()\n",
    "search=RandomizedSearchCV(model,param_distributions=params,random_state=42,n_iter=100,cv=3,n_jobs=12, verbose=4,return_train_score=True)\n",
    "search.fit(X_train, y_train)\n",
    "#n_iter=100 >>> 9m 43s\n",
    "#14.00 - 14.40 for niter=10,cv=3\n",
    "#16.00 - 17.10 niter=20\n",
    "#18.15 - 20.20 niter=100"
   ]
  },
  {
   "cell_type": "code",
   "execution_count": null,
   "metadata": {
    "execution": {
     "iopub.status.busy": "2024-05-28T08:25:02.894205Z",
     "iopub.status.idle": "2024-05-28T08:25:02.894568Z",
     "shell.execute_reply": "2024-05-28T08:25:02.894389Z",
     "shell.execute_reply.started": "2024-05-28T08:25:02.894374Z"
    }
   },
   "outputs": [],
   "source": [
    "be=search.best_estimator_\n",
    "be.get_params()"
   ]
  },
  {
   "cell_type": "code",
   "execution_count": null,
   "metadata": {
    "execution": {
     "iopub.status.busy": "2024-05-28T08:25:02.895294Z",
     "iopub.status.idle": "2024-05-28T08:25:02.895653Z",
     "shell.execute_reply": "2024-05-28T08:25:02.895476Z",
     "shell.execute_reply.started": "2024-05-28T08:25:02.895461Z"
    }
   },
   "outputs": [],
   "source": [
    "search.cv_results_['params'][search.best_index_]"
   ]
  },
  {
   "cell_type": "code",
   "execution_count": null,
   "metadata": {
    "execution": {
     "iopub.status.busy": "2024-05-28T08:25:02.896529Z",
     "iopub.status.idle": "2024-05-28T08:25:02.896903Z",
     "shell.execute_reply": "2024-05-28T08:25:02.896727Z",
     "shell.execute_reply.started": "2024-05-28T08:25:02.896711Z"
    }
   },
   "outputs": [],
   "source": [
    "search.best_params_"
   ]
  },
  {
   "cell_type": "code",
   "execution_count": null,
   "metadata": {
    "execution": {
     "iopub.status.busy": "2024-05-28T08:25:02.897848Z",
     "iopub.status.idle": "2024-05-28T08:25:02.898289Z",
     "shell.execute_reply": "2024-05-28T08:25:02.898111Z",
     "shell.execute_reply.started": "2024-05-28T08:25:02.898096Z"
    }
   },
   "outputs": [],
   "source": [
    "#%%timeit -n 1 -r 1\n",
    "X_train, X_test, y_train, y_test = train_test_split(scaled,y,test_size=0.33333,random_state=42)\n",
    "best_params=search.best_estimator_.get_params()\n",
    "reg=GradientBoostingRegressor(**best_params)\n",
    "reg.fit(X_train, y_train)\n",
    "\n",
    "y_pred=reg.predict(X_test)\n",
    "mse = mean_squared_error(y_test, y_pred)\n",
    "print(\"The mean squared error (MSE) on test set: {:.4f}\".format(mse))"
   ]
  },
  {
   "cell_type": "code",
   "execution_count": null,
   "metadata": {
    "execution": {
     "iopub.status.busy": "2024-05-28T08:25:02.899000Z",
     "iopub.status.idle": "2024-05-28T08:25:02.899359Z",
     "shell.execute_reply": "2024-05-28T08:25:02.899182Z",
     "shell.execute_reply.started": "2024-05-28T08:25:02.899167Z"
    },
    "tags": []
   },
   "outputs": [],
   "source": [
    "fig, axs = plt.subplots(ncols=2, figsize=(8, 4))\n",
    "PED.from_predictions(\n",
    "    y_test,\n",
    "    y_pred=y_pred,\n",
    "    kind=\"actual_vs_predicted\",\n",
    "    subsample=None,\n",
    "    ax=axs[0],\n",
    "    random_state=0,\n",
    ")\n",
    "axs[0].set_title(\"Actual vs. Predicted values\")\n",
    "axs[0].set_ylim(0,13)\n",
    "axs[0].set_xlim(0,13)\n",
    "axs[0].set_xticks(range(0,14,2))\n",
    "axs[0].set_yticks(range(0,14,2))\n",
    "PED.from_predictions(\n",
    "    y_test,\n",
    "    y_pred=y_pred,\n",
    "    kind=\"residual_vs_predicted\",\n",
    "    subsample=None,\n",
    "    ax=axs[1],\n",
    "    random_state=0,\n",
    ")\n",
    "axs[1].set_title(\"Residuals vs. Predicted Values\")\n",
    "axs[1].set_xlim(0,13)\n",
    "fig.suptitle(\"Plotting cross-validated predictions\")\n",
    "plt.tight_layout()\n",
    "plt.show()\n",
    "print(r2_score(y_pred=y_pred,y_true=y_test))"
   ]
  },
  {
   "cell_type": "code",
   "execution_count": null,
   "metadata": {
    "execution": {
     "iopub.status.busy": "2024-05-28T08:25:02.900263Z",
     "iopub.status.idle": "2024-05-28T08:25:02.900622Z",
     "shell.execute_reply": "2024-05-28T08:25:02.900446Z",
     "shell.execute_reply.started": "2024-05-28T08:25:02.900431Z"
    }
   },
   "outputs": [],
   "source": [
    "df_results=pd.DataFrame(data=search.cv_results_)\n",
    "df_results.sort_values(by='rank_test_score')"
   ]
  },
  {
   "cell_type": "code",
   "execution_count": null,
   "metadata": {
    "execution": {
     "iopub.status.busy": "2024-05-28T08:25:02.901654Z",
     "iopub.status.idle": "2024-05-28T08:25:02.902023Z",
     "shell.execute_reply": "2024-05-28T08:25:02.901837Z",
     "shell.execute_reply.started": "2024-05-28T08:25:02.901821Z"
    }
   },
   "outputs": [],
   "source": [
    "import time\n",
    "import pickle\n",
    "with open('reg_best_params.pkl','wb') as f:\n",
    "    pickle.dump(reg,f)"
   ]
  },
  {
   "cell_type": "code",
   "execution_count": null,
   "metadata": {
    "execution": {
     "iopub.status.busy": "2024-05-28T08:25:02.903115Z",
     "iopub.status.idle": "2024-05-28T08:25:02.903471Z",
     "shell.execute_reply": "2024-05-28T08:25:02.903296Z",
     "shell.execute_reply.started": "2024-05-28T08:25:02.903281Z"
    }
   },
   "outputs": [],
   "source": [
    "import datetime\n",
    "now = datetime.datetime.now()\n",
    "now"
   ]
  },
  {
   "cell_type": "code",
   "execution_count": null,
   "metadata": {},
   "outputs": [],
   "source": []
  }
 ],
 "metadata": {
  "kernelspec": {
   "display_name": "py312scikitlearn",
   "language": "python",
   "name": "py312scikitlearn"
  },
  "language_info": {
   "codemirror_mode": {
    "name": "ipython",
    "version": 3
   },
   "file_extension": ".py",
   "mimetype": "text/x-python",
   "name": "python",
   "nbconvert_exporter": "python",
   "pygments_lexer": "ipython3",
   "version": "3.12.2"
  }
 },
 "nbformat": 4,
 "nbformat_minor": 4
}
